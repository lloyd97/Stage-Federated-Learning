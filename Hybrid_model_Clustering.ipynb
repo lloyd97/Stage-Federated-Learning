{
 "cells": [
  {
   "cell_type": "markdown",
   "metadata": {},
   "source": [
    "# Installing wandb"
   ]
  },
  {
   "cell_type": "code",
   "execution_count": 11,
   "metadata": {},
   "outputs": [
    {
     "name": "stdout",
     "output_type": "stream",
     "text": [
      "^C\n"
     ]
    }
   ],
   "source": [
    "!pip install --upgrade wandb"
   ]
  },
  {
   "cell_type": "markdown",
   "metadata": {},
   "source": [
    "# Importing Libraries"
   ]
  },
  {
   "cell_type": "code",
   "execution_count": 8,
   "metadata": {},
   "outputs": [],
   "source": [
    "import torch\n",
    "import torchvision\n",
    "import torchvision.transforms as transforms\n",
    "import torch.optim as optim\n",
    "import torch.nn.functional as F\n",
    "import torch.nn as nn\n",
    "import wandb\n",
    "import os\n",
    "from typing import Any, Dict, List\n",
    "import copy\n",
    "import random\n",
    "import wandb\n",
    "import numpy as np\n",
    "import matplotlib.pyplot as plt\n",
    "\n",
    "#Libraries for mobolity\n",
    "from collections import Counter\n",
    "import random\n",
    "import numpy as np\n",
    "import logging\n",
    "import clustering\n",
    "import clients\n",
    "import numpy\n",
    "from scipy.spatial.distance import cdist\n",
    "from mobility import gauss_markov, reference_point_group, \\\n",
    "    tvc, truncated_levy_walk, random_direction, random_waypoint, random_walk\n",
    "from tqdm import tqdm\n",
    "\n",
    "import matplotlib.pyplot as plt\n",
    "%matplotlib inline\n",
    "import numpy as np\n",
    "import Leach\n",
    "from scipy.cluster.hierarchy import linkage, dendrogram\n",
    "import matplotlib.pyplot as plt\n",
    "\n",
    "#Clustering Library\n",
    "from numpy import unique\n",
    "from numpy import where\n",
    "from sklearn.datasets import make_classification\n",
    "from sklearn.cluster import AffinityPropagation\n",
    "from sklearn.cluster import AgglomerativeClustering\n",
    "from sklearn.cluster import KMeans\n",
    "import kmean_clustering\n",
    "\n",
    "#custom library\n",
    "import custom_model\n",
    "import server\n",
    "\n"
   ]
  },
  {
   "cell_type": "code",
   "execution_count": 9,
   "metadata": {},
   "outputs": [],
   "source": [
    "device = torch.device(\"cuda\" if torch.cuda.is_available() else \"cpu\")\n",
    "#os.environ[\"WANDB_API_KEY\"] = \"183c1a6a36cbdf0405f5baacb72690845ecc8573\""
   ]
  },
  {
   "cell_type": "markdown",
   "metadata": {},
   "source": [
    "# Importing dataset\n",
    "## validating dataset structure"
   ]
  },
  {
   "cell_type": "code",
   "execution_count": 10,
   "metadata": {},
   "outputs": [
    {
     "name": "stdout",
     "output_type": "stream",
     "text": [
      "Files already downloaded and verified\n",
      "Files already downloaded and verified\n",
      "Dataset CIFAR10\n",
      "    Number of datapoints: 50000\n",
      "    Root location: cifar_data\n",
      "    Split: Train\n",
      "    StandardTransform\n",
      "Transform: Compose(\n",
      "               ToTensor()\n",
      "               Normalize(mean=(0.5, 0.5, 0.5), std=(0.5, 0.5, 0.5))\n",
      "           )\n",
      "Dataset CIFAR10\n",
      "    Number of datapoints: 10000\n",
      "    Root location: cifar_data\n",
      "    Split: Test\n",
      "    StandardTransform\n",
      "Transform: Compose(\n",
      "               ToTensor()\n",
      "               Normalize(mean=(0.5, 0.5, 0.5), std=(0.5, 0.5, 0.5))\n",
      "           )\n",
      "\n",
      "trainset datatype: <class 'torchvision.datasets.cifar.CIFAR10'>\n",
      "testset datatype: <class 'torchvision.datasets.cifar.CIFAR10'>\n",
      "\n",
      "Label in cifar10: [0 1 2 3 4 5 6 7 8 9]\n",
      "('plane', 'car', 'bird', 'cat', 'deer', 'dog', 'frog', 'horse', 'ship', 'truck')\n"
     ]
    }
   ],
   "source": [
    "transform = transforms.Compose([\n",
    "    transforms.ToTensor(),\n",
    "    transforms.Normalize((0.5, 0.5, 0.5), (0.5, 0.5, 0.5))\n",
    "])\n",
    "\n",
    "trainset = torchvision.datasets.CIFAR10(root='cifar_data', train=True,download=True,transform=transform)\n",
    "testset = torchvision.datasets.CIFAR10(root='cifar_data', train=False, download=True,transform=transform)\n",
    "\n",
    "print(trainset)\n",
    "print(testset)\n",
    "\n",
    "trainloader = torch.utils.data.DataLoader(trainset, \n",
    "                                           batch_size=500,\n",
    "                                           shuffle=True)\n",
    "\n",
    "print(str(\"\\ntrainset datatype: \")+str((type(trainset))))\n",
    "print(str(\"testset datatype: \")+str((type(testset))))\n",
    "\n",
    "\n",
    "print(str(\"\\nLabel in cifar10: \")+str(np.unique([trainset[i][1] for i in range(len(trainset))])))\n",
    "\n",
    "classes = ('plane', 'car', 'bird', 'cat',\n",
    "           'deer', 'dog', 'frog', 'horse', 'ship', 'truck')\n",
    "print(classes)\n",
    "\n",
    "\n",
    "def imshow(img):\n",
    "    img = img / 2 + 0.5 # unnormalize\n",
    "    npimg = img.numpy()\n",
    "    plt.imshow(np.transpose(npimg, (1, 2, 0)))\n",
    "    plt.show()\n",
    "\n",
    "\n",
    "# get some random training images\n",
    "dataiter = iter(trainloader)\n",
    "images, labels = dataiter.next()\n",
    "\n",
    "# show images\n",
    "#imshow(torchvision.utils.make_grid(images))\n",
    "# print labels\n",
    "#print(' '.join(f'{classes[labels[j]]:1s}' for j in range(16)))\n",
    "\n",
    "# # This is for iid data\n",
    "# trainloader = torch.utils.data.DataLoader(trainset, \n",
    "#                                           batch_size=500,\n",
    "#                                           shuffle=True)\n",
    "testloader = torch.utils.data.DataLoader(testset,\n",
    "                                        batch_size=100,\n",
    "                                        shuffle=True)"
   ]
  },
  {
   "cell_type": "markdown",
   "metadata": {},
   "source": [
    "# Initialising parameters"
   ]
  },
  {
   "cell_type": "code",
   "execution_count": 11,
   "metadata": {},
   "outputs": [
    {
     "name": "stdout",
     "output_type": "stream",
     "text": [
      "Model structure: \n",
      "Net(\n",
      "  (conv1): Conv2d(3, 6, kernel_size=(5, 5), stride=(1, 1))\n",
      "  (pool): MaxPool2d(kernel_size=2, stride=2, padding=0, dilation=1, ceil_mode=False)\n",
      "  (conv2): Conv2d(6, 16, kernel_size=(5, 5), stride=(1, 1))\n",
      "  (fc1): Linear(in_features=400, out_features=120, bias=True)\n",
      "  (fc2): Linear(in_features=120, out_features=84, bias=True)\n",
      "  (fc3): Linear(in_features=84, out_features=10, bias=True)\n",
      ")\n"
     ]
    }
   ],
   "source": [
    "n_client = 30\n",
    "n_leader = int(n_client * 0.1)\n",
    "chosen_prob = 0.8\n",
    "local_batch_size = 32\n",
    "local_epochs = 5\n",
    "\n",
    "epochs = 5\n",
    "criteria = nn.CrossEntropyLoss()\n",
    "optimizer = optim.SGD\n",
    "optimizer_conf = dict(\n",
    "    lr=0.001,\n",
    "    momentum=0.9\n",
    ")\n",
    "\n",
    "\n",
    "\n",
    "model = custom_model.Net().to(device)\n",
    "print(str(\"Model structure: \\n\")+str(model))\n",
    "\n",
    "server_list: List[server.Server] = []\n",
    "\n",
    "leaderStep = int(n_client/n_leader)"
   ]
  },
  {
   "cell_type": "markdown",
   "metadata": {},
   "source": [
    "# Mobility\n",
    "## Assigning coordinates to nodes & creating clusters"
   ]
  },
  {
   "cell_type": "code",
   "execution_count": 12,
   "metadata": {},
   "outputs": [
    {
     "name": "stdout",
     "output_type": "stream",
     "text": [
      "Coordinates generated: \n",
      "[[18.39839891 26.79646631]\n",
      " [95.03824448 61.86341421]\n",
      " [90.38934082 26.38757339]\n",
      " [53.34519328 56.74059427]\n",
      " [39.41817051 10.90634014]\n",
      " [28.42918166 56.92422588]\n",
      " [80.42768    61.58491742]\n",
      " [32.02827993 24.42435152]\n",
      " [85.68114019 41.30603091]\n",
      " [86.33075913 25.14261621]\n",
      " [76.18378956 65.86985846]\n",
      " [47.72839356 66.39393991]\n",
      " [20.25853068 91.03235363]\n",
      " [18.43027994 95.53617346]\n",
      " [35.96631085 12.61518217]\n",
      " [61.78414449  2.45425339]\n",
      " [76.19556261 69.10506403]\n",
      " [62.37692549  1.44829415]\n",
      " [38.21671773 20.38841057]\n",
      " [63.93959551 86.84645104]\n",
      " [47.15005807  2.66312755]\n",
      " [10.8449529  57.94976435]\n",
      " [73.43714486  5.15827358]\n",
      " [47.86458779 90.63239674]\n",
      " [52.63976174 89.99001038]\n",
      " [13.13148564 51.57567912]\n",
      " [56.58021295 76.97139824]\n",
      " [69.62869179 99.03848919]\n",
      " [49.14497882 78.8885162 ]\n",
      " [18.26780863 32.33673877]]\n",
      "\n",
      "Label: \n",
      "[3 0 0 4 2 3 0 2 0 0 4 4 1 1 2 2 4 2 2 4 2 3 2 4 4 3 4 4 4 3]\n"
     ]
    },
    {
     "name": "stderr",
     "output_type": "stream",
     "text": [
      "C:\\Users\\lloflo\\Anaconda3\\lib\\site-packages\\sklearn\\cluster\\_affinity_propagation.py:152: FutureWarning: 'random_state' has been introduced in 0.23. It will be set to None starting from 0.25 which means that results will differ at every function call. Set 'random_state' to None to silence this warning, or to 0 to keep the behavior of versions <0.23.\n",
      "  FutureWarning)\n"
     ]
    },
    {
     "data": {
      "image/png": "[encoded data removed]",
      "text/plain": [
       "<Figure size 432x288 with 1 Axes>"
      ]
     },
     "metadata": {
      "needs_background": "light"
     },
     "output_type": "display_data"
    },
    {
     "name": "stdout",
     "output_type": "stream",
     "text": [
      "\n",
      "Label: \n",
      "[3 0 0 2 1 3 0 1 0 0 0 2 4 4 1 1 0 1 1 2 1 3 1 2 2 3 2 2 2 3]\n"
     ]
    },
    {
     "data": {
      "image/png": "[encoded data removed]",
      "text/plain": [
       "<Figure size 432x288 with 1 Axes>"
      ]
     },
     "metadata": {
      "needs_background": "light"
     },
     "output_type": "display_data"
    },
    {
     "data": {
      "image/png": "[encoded data removed]",
      "text/plain": [
       "<Figure size 432x288 with 1 Axes>"
      ]
     },
     "metadata": {
      "needs_background": "light"
     },
     "output_type": "display_data"
    },
    {
     "data": {
      "image/png": "[encoded data removed]",
      "text/plain": [
       "<Figure size 1152x576 with 1 Axes>"
      ]
     },
     "metadata": {
      "needs_background": "light"
     },
     "output_type": "display_data"
    },
    {
     "name": "stdout",
     "output_type": "stream",
     "text": [
      "labels of clusters: [0 1 1 2 0 2 1 0 1 1 1 2 2 2 0 0 1 0 0 2 0 2 0 2 2 2 2 2 2 0]\n"
     ]
    },
    {
     "data": {
      "image/png": "[encoded data removed]",
      "text/plain": [
       "<Figure size 432x288 with 1 Axes>"
      ]
     },
     "metadata": {
      "needs_background": "light"
     },
     "output_type": "display_data"
    }
   ],
   "source": [
    "classes_pair = [(0, 1), (2, 3), (4, 5), (6, 7), (8, 9)]\n",
    "\n",
    "data_label = np.array(trainset.targets)\n",
    "\n",
    "nr_nodes = int(n_client)\n",
    "\n",
    "logger = logging.getLogger(\"vanet\")\n",
    "\n",
    "step = 0\n",
    "np.random.seed(0xffff)\n",
    "\n",
    "# simulation area (units)\n",
    "MAX_X, MAX_Y = 100, 100\n",
    "\n",
    "# max and min velocity\n",
    "MIN_V, MAX_V = 0.1, 1.\n",
    "\n",
    "# max waiting time\n",
    "MAX_WT = 100.\n",
    "\n",
    "# number of steps to ignore before start plotting\n",
    "STEPS_TO_IGNORE = 10000\n",
    "\n",
    "# set this to true if you want to calculate node contacts\n",
    "CALCULATE_CONTACTS = False\n",
    "\n",
    "# if calculating contacts, this is the range to be used\n",
    "# (if a distance(a,b) < RANGE, then there is a contact betwen a and b)\n",
    "RANGE = 1.\n",
    "\n",
    "#rw = random_walk(nr_nodes, dimensions=(MAX_X, MAX_Y))\n",
    "#rw = gauss_markov(nr_nodes, dimensions=(MAX_X, MAX_Y))\n",
    "#rw = truncated_levy_walk(nr_nodes, dimensions=(MAX_X, MAX_Y))\n",
    "rw = reference_point_group(nr_nodes, dimensions=(MAX_X, MAX_Y),velocity=(5.0, 10.0))\n",
    "\n",
    "cluster = clustering.Cluster(nr_nodes,\n",
    "                             step,MAX_X, \n",
    "                             MAX_Y,MIN_V, \n",
    "                             MAX_V,MAX_WT,\n",
    "                             STEPS_TO_IGNORE,\n",
    "                             CALCULATE_CONTACTS,\n",
    "                             RANGE,rw)\n",
    "\n",
    "coordinate = cluster.coord(rw)\n",
    "print(str(\"Coordinates generated: \\n\") + str(coordinate))\n",
    "\n",
    "#AffinityPropagation clustering\n",
    "affinity_clustering = coordinate \n",
    "affinity_model = AffinityPropagation(damping=0.9)\n",
    "affinity_model.fit(affinity_clustering)\n",
    "yhat = affinity_model.predict(affinity_clustering)\n",
    "clusters = unique(yhat)\n",
    "print(str(\"\\nLabel: \\n\")+str(affinity_model.labels_))\n",
    "# create scatter plot for samples from each cluster\n",
    "for clust in clusters:\n",
    "    # get row indexes for samples with this cluster\n",
    "    row_ix = where(yhat == clust)\n",
    "    # create scatter of these samples\n",
    "    plt.scatter(affinity_clustering[row_ix, 0], affinity_clustering[row_ix, 1], label = clust)\n",
    "# show the plot\n",
    "plt.legend()\n",
    "plt.show()\n",
    "\n",
    "\n",
    "agglomerative_cluster = coordinate \n",
    "# define the model\n",
    "agglomerative_model = AgglomerativeClustering(n_clusters=5)\n",
    "# fit model and predict clusters\n",
    "yhat = agglomerative_model.fit_predict(agglomerative_cluster)\n",
    "# retrieve unique clusters\n",
    "clusters = unique(yhat)\n",
    "print(str(\"\\nLabel: \\n\")+str(agglomerative_model.labels_))\n",
    "# create scatter plot for samples from each cluster\n",
    "for clust in clusters:\n",
    "    # get row indexes for samples with this cluster\n",
    "    row_ix = where(yhat == clust)\n",
    "    # create scatter of these samples\n",
    "    plt.scatter(agglomerative_cluster[row_ix, 0], agglomerative_cluster[row_ix, 1], label = clust)\n",
    "# show the plot\n",
    "plt.legend()\n",
    "plt.show()\n",
    "\n",
    "#Dendrogram plot for Agglomerative clustering\n",
    "den = dendrogram(linkage(coordinate, method='single'))\n",
    "plt.ylabel('Euclidean Distance', fontsize = 14)\n",
    "plt.title('Dendrogram of the Coordinates Data')\n",
    "plt.show()\n",
    "\n",
    "#KMeans Clustering\n",
    "kmean_cluster = kmean_clustering.Kmeans_cluster(coordinate, n_leader, n_leader, [], None, [], n_client)\n",
    "best_k = kmean_cluster.getElbowCurve(coordinate)\n",
    "kmeans = kmean_cluster.createCluster(3,coordinate)\n",
    "cluster_coords = kmean_cluster.initiaiseClusterCoordinates(kmeans)\n",
    "#print(str(\"cluster_coords \")+str(cluster_coords))\n",
    "client_list = kmean_cluster.getClientList(cluster_coords)\n",
    "cluster_coords = kmean_cluster.fillingNoneValue(cluster_coords)         \n",
    "\n"
   ]
  },
  {
   "cell_type": "code",
   "execution_count": 13,
   "metadata": {},
   "outputs": [],
   "source": [
    "servers = []\n",
    "\n",
    "for i in range(0,n_leader):\n",
    "    server_list = server.Server(\n",
    "        model=model,\n",
    "        loss=criteria,\n",
    "        optimizer=optimizer,\n",
    "        n_client=client_list[i],\n",
    "        #n_leader=n_leader,\n",
    "        chosen_prob=chosen_prob,\n",
    "        optimizer_conf=optimizer_conf,\n",
    "        local_batch_size=local_batch_size,\n",
    "        local_epochs=local_epochs\n",
    "    )\n",
    "    servers.append(server_list)\n",
    "        \n",
    "def initialiseClientCoordinates(best_k,coordinate,cluster_coords):\n",
    "    for i in range(int(best_k)):\n",
    "        #print(str('for server: ') + str(i))\n",
    "        for j in range(len(coordinate)):\n",
    "            for k in range(len(cluster_coords[i])):\n",
    "                if (cluster_coords[i][j] == k):\n",
    "                    servers[i].client_pool[j].setXCoordinate(coordinate[k][0])\n",
    "                    servers[i].client_pool[j].setYCoordinate(coordinate[k][1])\n",
    "\n",
    "        \n",
    "initialiseClientCoordinates(best_k,coordinate,cluster_coords)\n",
    "\n",
    "def showClient():\n",
    "    for i in range(int(best_k)):\n",
    "        for j in range(client_list[i]):\n",
    "            print(str('for server: ') + str(i) + str(' client ') + str(j) \n",
    "                  + str(' coordinates ') + str(servers[i].client_pool[j].actual_Xcoord) + str(', ') \n",
    "                  + str(servers[i].client_pool[j].actual_Ycoord))\n",
    "            \n",
    "#showClient()"
   ]
  },
  {
   "cell_type": "code",
   "execution_count": 14,
   "metadata": {},
   "outputs": [
    {
     "name": "stderr",
     "output_type": "stream",
     "text": [
      "10it [00:01,  5.95it/s]\n",
      "7it [00:01,  4.81it/s]\n",
      "13it [00:02,  5.30it/s]\n"
     ]
    }
   ],
   "source": [
    "# # This is for iid data\n",
    "# for batch_idx, (batch_feature, batch_label) in enumerate(trainloader):\n",
    "#     server.client_pool[batch_idx].setData(list(zip(batch_feature, batch_label)))\n",
    "\n",
    "\n",
    "# This is for non-iid data                   \n",
    "chosen_counter = Counter()\n",
    "for i in range(len(servers)):\n",
    "    for _, client in tqdm(enumerate(servers[i].client_pool)):        \n",
    "        # sample until we have a pair of class with insufficient client owning\n",
    "        class_pair = random.choice(classes_pair)\n",
    "        while chosen_counter[class_pair] == 100:\n",
    "            class_pair = random.choice(classes_pair)\n",
    "\n",
    "        chosen_counter[class_pair] += 1\n",
    "        first_class, second_class = class_pair\n",
    "        first_class_sample_idx = list(np.where(data_label == first_class)[0])\n",
    "        second_class_sample_idx = list(np.where(data_label == second_class)[0])\n",
    "        #first_class_sample_idx = list(first_class[0])\n",
    "        #second_class_sample_idx = list(scond_class[0])\n",
    "\n",
    "        client_first_class_sample_idx = random.sample(first_class_sample_idx, k=500)\n",
    "        client_second_class_sample_idx = random.sample(second_class_sample_idx, k=500)\n",
    "        client_data = []\n",
    "    \n",
    "        for i in range(500):\n",
    "            client_data.append(trainset[client_first_class_sample_idx[i]])\n",
    "            client_data.append(trainset[client_second_class_sample_idx[i]])\n",
    "\n",
    "        client.setData(client_data)"
   ]
  },
  {
   "cell_type": "markdown",
   "metadata": {},
   "source": [
    "# Dynamic nodes clustering"
   ]
  },
  {
   "cell_type": "code",
   "execution_count": 15,
   "metadata": {},
   "outputs": [
    {
     "name": "stdout",
     "output_type": "stream",
     "text": [
      "Using matplotlib backend: Qt5Agg\n",
      "[[17.42016394 26.5889661 ]\n",
      " [94.04006623 61.92374819]\n",
      " [89.71253018 27.12373056]\n",
      " [54.08954697 57.40837986]\n",
      " [39.96633874 10.06997205]\n",
      " [27.7659834  57.67266965]\n",
      " [80.1911557  62.556543  ]\n",
      " [32.89005269 24.93164603]\n",
      " [84.81116382 40.81293751]\n",
      " [85.39121971 25.48505698]\n",
      " [76.96751658 66.49096391]\n",
      " [46.89258719 65.84491559]\n",
      " [20.36837627 90.03840497]\n",
      " [18.10568532 94.59032022]\n",
      " [36.92539973 12.89828731]\n",
      " [61.02971771  1.79786918]\n",
      " [76.25688639 68.1069461 ]\n",
      " [61.6391847   2.12337825]\n",
      " [38.7856348  21.21080547]\n",
      " [62.98053555 86.56324793]\n",
      " [46.9964143   3.65125385]\n",
      " [10.13873469 57.24177011]\n",
      " [72.58242515  5.67736338]\n",
      " [47.59829268 91.59628829]\n",
      " [51.96938177 89.24799239]\n",
      " [12.14893509 51.38968333]\n",
      " [57.29852647 77.66711779]\n",
      " [69.59667683 99.96202342]\n",
      " [49.14372197 79.88851541]\n",
      " [18.28739097 33.33654702]]\n",
      "[[17.85074659 27.49151725]\n",
      " [93.52720376 61.0652774 ]\n",
      " [90.71144992 27.17019946]\n",
      " [55.06385049 57.63361894]\n",
      " [40.51738984  9.23550054]\n",
      " [27.66309336 58.66736238]\n",
      " [79.56763771 61.77473399]\n",
      " [31.91664658 25.16073237]\n",
      " [83.85955051 40.50563943]\n",
      " [84.52098729 24.99241559]\n",
      " [77.22303671 67.45776764]\n",
      " [47.49560336 65.04718663]\n",
      " [20.73496784 89.10802299]\n",
      " [18.90694973 95.18863064]\n",
      " [37.91541827 12.75735006]\n",
      " [62.02459407  1.89896821]\n",
      " [75.52732189 67.42303409]\n",
      " [62.63745041  2.18224729]\n",
      " [37.97924885 21.80219512]\n",
      " [63.7297181  85.90088436]\n",
      " [46.19673347  4.25167917]\n",
      " [10.04094356 58.23697707]\n",
      " [71.64550703  6.02691228]\n",
      " [46.81302274 90.97713474]\n",
      " [52.51288699 88.4085866 ]\n",
      " [12.09320258 50.3912376 ]\n",
      " [58.20660566 78.08591629]\n",
      " [68.99779493 99.16118607]\n",
      " [48.14614952 79.81887926]\n",
      " [18.995231   32.63017425]]\n",
      "[[16.94596659 27.06563798]\n",
      " [94.47545725 61.3827917 ]\n",
      " [91.09962758 28.09178402]\n",
      " [54.24470983 58.20721163]\n",
      " [39.72022261  8.63174197]\n",
      " [26.75356086 59.0829952 ]\n",
      " [79.27434442 62.7307565 ]\n",
      " [32.72212637 25.75335561]\n",
      " [83.36748891 41.37619981]\n",
      " [85.02620794 25.8554058 ]\n",
      " [76.92924536 66.50189807]\n",
      " [48.12833177 64.27281284]\n",
      " [20.3675741  88.17795748]\n",
      " [18.48418033 96.09486794]\n",
      " [37.23755522 12.02216186]\n",
      " [61.62869332  2.81726151]\n",
      " [74.65545845 67.91278315]\n",
      " [63.35898043  1.48986413]\n",
      " [38.84802478 21.30698972]\n",
      " [64.72865967 85.94688146]\n",
      " [46.8773033   4.9843624 ]\n",
      " [ 9.32064756 58.9306439 ]\n",
      " [72.37240172  6.71366121]\n",
      " [47.73125737 91.37317156]\n",
      " [51.96918698 87.56930698]\n",
      " [11.24569843 49.86044883]\n",
      " [59.17702044 77.8444724 ]\n",
      " [69.07244841 98.16397653]\n",
      " [48.09427232 78.82022578]\n",
      " [18.45473588 31.7888271 ]]\n",
      "[[16.06632094 27.54126761]\n",
      " [95.17788515 62.0945466 ]\n",
      " [91.98300137 28.56045314]\n",
      " [53.73334127 57.34785012]\n",
      " [40.63238143  9.04157888]\n",
      " [27.57356325 58.51063509]\n",
      " [79.86829477 61.92625481]\n",
      " [32.91922871 26.73373853]\n",
      " [84.04741618 42.10947937]\n",
      " [84.09789572 25.48360419]\n",
      " [77.72148576 67.11210717]\n",
      " [48.2998075  63.2876245 ]\n",
      " [19.46789493 88.61450918]\n",
      " [19.01392128 96.94302743]\n",
      " [38.10709752 11.52830339]\n",
      " [61.48183585  3.80641918]\n",
      " [75.10269041 67.01836514]\n",
      " [63.51867784  2.47703015]\n",
      " [38.24367136 22.10370607]\n",
      " [63.82731341 85.51378226]\n",
      " [47.73308517  5.50169922]\n",
      " [ 8.69516029 59.71087828]\n",
      " [72.27453011  7.70886026]\n",
      " [46.79734545 91.01566838]\n",
      " [51.13139753 88.11530043]\n",
      " [10.27763852 49.60972984]\n",
      " [59.84971983 78.5843883 ]\n",
      " [68.17934746 98.61383283]\n",
      " [48.63381887 77.97827002]\n",
      " [19.24254997 32.40474021]]\n",
      "[[16.78896227 28.2324908 ]\n",
      " [96.02483992 61.56288164]\n",
      " [91.19668283 27.94263185]\n",
      " [53.11057364 58.13025697]\n",
      " [39.91098613  8.34905537]\n",
      " [28.00782103 57.60984645]\n",
      " [80.47302926 61.12982766]\n",
      " [32.61391247 27.68598955]\n",
      " [83.68139218 41.17887396]\n",
      " [84.77087307 26.22326728]\n",
      " [78.25188626 66.26435997]\n",
      " [49.03808256 63.96212426]\n",
      " [19.728023   87.64893506]\n",
      " [19.69389136 96.20978758]\n",
      " [38.19891067 12.52407964]\n",
      " [60.58521707  4.24922246]\n",
      " [74.99967441 68.01304484]\n",
      " [63.78715246  3.4403169 ]\n",
      " [37.51592764 22.78955524]\n",
      " [64.80797144 85.70951124]\n",
      " [48.72978856  5.58283092]\n",
      " [ 7.99308339 60.42297941]\n",
      " [72.61367844  8.64959318]\n",
      " [47.24291811 91.91091416]\n",
      " [51.67337724 87.27490885]\n",
      " [ 9.76477977 48.75125684]\n",
      " [60.32541804 77.70477975]\n",
      " [67.73947506 99.51189311]\n",
      " [47.99292717 78.74590132]\n",
      " [18.89423629 33.34211825]]\n"
     ]
    },
    {
     "data": {
      "image/png": "[encoded data removed]",
      "text/plain": [
       "<Figure size 864x658 with 1 Axes>"
      ]
     },
     "metadata": {
      "needs_background": "light"
     },
     "output_type": "display_data"
    }
   ],
   "source": [
    "#%matplotlib\n",
    "#looping process\n",
    "\n",
    "coordinate_array = []\n",
    "best_ks = []\n",
    "cluster_array = []\n",
    "kmeans_array = []\n",
    "cluster_coords_array = []\n",
    "\n",
    "LABEL_COLOR_MAP = {0 : 'r',\n",
    "                   1 : 'g',\n",
    "                   2 : 'b',\n",
    "                   3 : 'y',\n",
    "                   4 : 'b'\n",
    "                   }\n",
    "\n",
    "label_color = [LABEL_COLOR_MAP[l] for l in kmeans.labels_]\n",
    "\n",
    "%matplotlib\n",
    "from sklearn.cluster import KMeans\n",
    "plt.ion()\n",
    "plt.figure(2)\n",
    "for i in range(epochs):\n",
    "    coordinates = cluster.coord(rw)\n",
    "    print(coordinates)\n",
    "    kmeans = KMeans(n_clusters=3).fit(coordinates)\n",
    "    plt.scatter(coordinates[:,0],coordinates[:,1], c=label_color)\n",
    "    plt.show()\n",
    "    plt.pause(0.3)\n",
    "    plt.cla()"
   ]
  },
  {
   "cell_type": "markdown",
   "metadata": {},
   "source": [
    "# Aggregation and propagation of the models"
   ]
  },
  {
   "cell_type": "code",
   "execution_count": 16,
   "metadata": {},
   "outputs": [
    {
     "name": "stdout",
     "output_type": "stream",
     "text": [
      "Original Secret: 3601534403\n",
      "Shares: (77412, 4675548491), (67338, 4535781815), (88982, 4836070671), (83363, 4758112665), (16753, 3833965525), (3008, 3643267395), (54089, 4351965189), (98302, 4965376351), (24267, 3938214761), (23373, 3925811405)\n",
      "Reconstructed secret: 3601534403\n",
      "Client 8: Acc 0.4951171875, Loss: 0.713223559781909\n",
      "Client 4: Acc 0.5322265625, Loss: 0.6977242026478052\n"
     ]
    },
    {
     "ename": "KeyboardInterrupt",
     "evalue": "",
     "output_type": "error",
     "traceback": [
      "\u001b[1;31m---------------------------------------------------------------------------\u001b[0m",
      "\u001b[1;31mKeyboardInterrupt\u001b[0m                         Traceback (most recent call last)",
      "\u001b[1;32m<ipython-input-16-364b17aef47c>\u001b[0m in \u001b[0;36m<module>\u001b[1;34m\u001b[0m\n\u001b[0;32m      6\u001b[0m \u001b[1;32mfor\u001b[0m \u001b[0mi\u001b[0m \u001b[1;32min\u001b[0m \u001b[0mrange\u001b[0m\u001b[1;33m(\u001b[0m\u001b[0mepochs\u001b[0m\u001b[1;33m)\u001b[0m\u001b[1;33m:\u001b[0m\u001b[1;33m\u001b[0m\u001b[1;33m\u001b[0m\u001b[0m\n\u001b[0;32m      7\u001b[0m     \u001b[1;32mfor\u001b[0m \u001b[0mj\u001b[0m \u001b[1;32min\u001b[0m \u001b[0mrange\u001b[0m\u001b[1;33m(\u001b[0m\u001b[0mlen\u001b[0m\u001b[1;33m(\u001b[0m\u001b[0mservers\u001b[0m\u001b[1;33m)\u001b[0m\u001b[1;33m)\u001b[0m\u001b[1;33m:\u001b[0m\u001b[1;33m\u001b[0m\u001b[1;33m\u001b[0m\u001b[0m\n\u001b[1;32m----> 8\u001b[1;33m         \u001b[0mservers\u001b[0m\u001b[1;33m[\u001b[0m\u001b[0mj\u001b[0m\u001b[1;33m]\u001b[0m\u001b[1;33m.\u001b[0m\u001b[0maggregate\u001b[0m\u001b[1;33m(\u001b[0m\u001b[1;33m)\u001b[0m\u001b[1;33m\u001b[0m\u001b[1;33m\u001b[0m\u001b[0m\n\u001b[0m\u001b[0;32m      9\u001b[0m         \u001b[0mservers\u001b[0m\u001b[1;33m[\u001b[0m\u001b[0mj\u001b[0m\u001b[1;33m]\u001b[0m\u001b[1;33m.\u001b[0m\u001b[0mbroadcast\u001b[0m\u001b[1;33m(\u001b[0m\u001b[1;33m)\u001b[0m\u001b[1;33m\u001b[0m\u001b[1;33m\u001b[0m\u001b[0m\n\u001b[0;32m     10\u001b[0m         \u001b[0mtotal_correct\u001b[0m \u001b[1;33m=\u001b[0m \u001b[1;36m0\u001b[0m\u001b[1;33m\u001b[0m\u001b[1;33m\u001b[0m\u001b[0m\n",
      "\u001b[1;32m~\\Desktop\\uni\\Stage\\FL\\Lloyd Florens\\server.py\u001b[0m in \u001b[0;36maggregate\u001b[1;34m(self)\u001b[0m\n\u001b[0;32m    152\u001b[0m \u001b[1;33m\u001b[0m\u001b[0m\n\u001b[0;32m    153\u001b[0m         \u001b[1;32mfor\u001b[0m \u001b[0mclient\u001b[0m \u001b[1;32min\u001b[0m \u001b[0mchosen_clients\u001b[0m\u001b[1;33m:\u001b[0m\u001b[1;33m\u001b[0m\u001b[1;33m\u001b[0m\u001b[0m\n\u001b[1;32m--> 154\u001b[1;33m             \u001b[0mclient\u001b[0m\u001b[1;33m.\u001b[0m\u001b[0mupdate_weights\u001b[0m\u001b[1;33m(\u001b[0m\u001b[1;33m)\u001b[0m\u001b[1;33m\u001b[0m\u001b[1;33m\u001b[0m\u001b[0m\n\u001b[0m\u001b[0;32m    155\u001b[0m             \u001b[0mprint\u001b[0m\u001b[1;33m(\u001b[0m\u001b[1;34mf\"Client {client.client_id}: Acc {client.accuracy}, Loss: {client.total_loss}\"\u001b[0m\u001b[1;33m)\u001b[0m\u001b[1;33m\u001b[0m\u001b[1;33m\u001b[0m\u001b[0m\n\u001b[0;32m    156\u001b[0m             \u001b[0mself\u001b[0m\u001b[1;33m.\u001b[0m\u001b[0mavg_loss\u001b[0m \u001b[1;33m+=\u001b[0m \u001b[1;36m1\u001b[0m \u001b[1;33m/\u001b[0m \u001b[0mlen\u001b[0m\u001b[1;33m(\u001b[0m\u001b[0mchosen_clients\u001b[0m\u001b[1;33m)\u001b[0m \u001b[1;33m*\u001b[0m \u001b[0mclient\u001b[0m\u001b[1;33m.\u001b[0m\u001b[0mtotal_loss\u001b[0m\u001b[1;33m\u001b[0m\u001b[1;33m\u001b[0m\u001b[0m\n",
      "\u001b[1;32m~\\Desktop\\uni\\Stage\\FL\\Lloyd Florens\\clients.py\u001b[0m in \u001b[0;36mupdate_weights\u001b[1;34m(self)\u001b[0m\n\u001b[0;32m    112\u001b[0m \u001b[1;33m\u001b[0m\u001b[0m\n\u001b[0;32m    113\u001b[0m                 \u001b[0mself\u001b[0m\u001b[1;33m.\u001b[0m\u001b[0moptimizer\u001b[0m\u001b[1;33m.\u001b[0m\u001b[0mzero_grad\u001b[0m\u001b[1;33m(\u001b[0m\u001b[0mset_to_none\u001b[0m\u001b[1;33m=\u001b[0m\u001b[1;32mTrue\u001b[0m\u001b[1;33m)\u001b[0m\u001b[1;33m\u001b[0m\u001b[1;33m\u001b[0m\u001b[0m\n\u001b[1;32m--> 114\u001b[1;33m                 \u001b[0mloss\u001b[0m\u001b[1;33m.\u001b[0m\u001b[0mbackward\u001b[0m\u001b[1;33m(\u001b[0m\u001b[1;33m)\u001b[0m\u001b[1;33m\u001b[0m\u001b[1;33m\u001b[0m\u001b[0m\n\u001b[0m\u001b[0;32m    115\u001b[0m                 \u001b[0mself\u001b[0m\u001b[1;33m.\u001b[0m\u001b[0moptimizer\u001b[0m\u001b[1;33m.\u001b[0m\u001b[0mstep\u001b[0m\u001b[1;33m(\u001b[0m\u001b[1;33m)\u001b[0m\u001b[1;33m\u001b[0m\u001b[1;33m\u001b[0m\u001b[0m\n\u001b[0;32m    116\u001b[0m \u001b[1;33m\u001b[0m\u001b[0m\n",
      "\u001b[1;32m~\\Anaconda3\\lib\\site-packages\\torch\\tensor.py\u001b[0m in \u001b[0;36mbackward\u001b[1;34m(self, gradient, retain_graph, create_graph, inputs)\u001b[0m\n\u001b[0;32m    243\u001b[0m                 \u001b[0mcreate_graph\u001b[0m\u001b[1;33m=\u001b[0m\u001b[0mcreate_graph\u001b[0m\u001b[1;33m,\u001b[0m\u001b[1;33m\u001b[0m\u001b[1;33m\u001b[0m\u001b[0m\n\u001b[0;32m    244\u001b[0m                 inputs=inputs)\n\u001b[1;32m--> 245\u001b[1;33m         \u001b[0mtorch\u001b[0m\u001b[1;33m.\u001b[0m\u001b[0mautograd\u001b[0m\u001b[1;33m.\u001b[0m\u001b[0mbackward\u001b[0m\u001b[1;33m(\u001b[0m\u001b[0mself\u001b[0m\u001b[1;33m,\u001b[0m \u001b[0mgradient\u001b[0m\u001b[1;33m,\u001b[0m \u001b[0mretain_graph\u001b[0m\u001b[1;33m,\u001b[0m \u001b[0mcreate_graph\u001b[0m\u001b[1;33m,\u001b[0m \u001b[0minputs\u001b[0m\u001b[1;33m=\u001b[0m\u001b[0minputs\u001b[0m\u001b[1;33m)\u001b[0m\u001b[1;33m\u001b[0m\u001b[1;33m\u001b[0m\u001b[0m\n\u001b[0m\u001b[0;32m    246\u001b[0m \u001b[1;33m\u001b[0m\u001b[0m\n\u001b[0;32m    247\u001b[0m     \u001b[1;32mdef\u001b[0m \u001b[0mregister_hook\u001b[0m\u001b[1;33m(\u001b[0m\u001b[0mself\u001b[0m\u001b[1;33m,\u001b[0m \u001b[0mhook\u001b[0m\u001b[1;33m)\u001b[0m\u001b[1;33m:\u001b[0m\u001b[1;33m\u001b[0m\u001b[1;33m\u001b[0m\u001b[0m\n",
      "\u001b[1;32m~\\Anaconda3\\lib\\site-packages\\torch\\autograd\\__init__.py\u001b[0m in \u001b[0;36mbackward\u001b[1;34m(tensors, grad_tensors, retain_graph, create_graph, grad_variables, inputs)\u001b[0m\n\u001b[0;32m    139\u001b[0m \u001b[1;33m\u001b[0m\u001b[0m\n\u001b[0;32m    140\u001b[0m     \u001b[0mgrad_tensors_\u001b[0m \u001b[1;33m=\u001b[0m \u001b[0m_tensor_or_tensors_to_tuple\u001b[0m\u001b[1;33m(\u001b[0m\u001b[0mgrad_tensors\u001b[0m\u001b[1;33m,\u001b[0m \u001b[0mlen\u001b[0m\u001b[1;33m(\u001b[0m\u001b[0mtensors\u001b[0m\u001b[1;33m)\u001b[0m\u001b[1;33m)\u001b[0m\u001b[1;33m\u001b[0m\u001b[1;33m\u001b[0m\u001b[0m\n\u001b[1;32m--> 141\u001b[1;33m     \u001b[0mgrad_tensors_\u001b[0m \u001b[1;33m=\u001b[0m \u001b[0m_make_grads\u001b[0m\u001b[1;33m(\u001b[0m\u001b[0mtensors\u001b[0m\u001b[1;33m,\u001b[0m \u001b[0mgrad_tensors_\u001b[0m\u001b[1;33m)\u001b[0m\u001b[1;33m\u001b[0m\u001b[1;33m\u001b[0m\u001b[0m\n\u001b[0m\u001b[0;32m    142\u001b[0m     \u001b[1;32mif\u001b[0m \u001b[0mretain_graph\u001b[0m \u001b[1;32mis\u001b[0m \u001b[1;32mNone\u001b[0m\u001b[1;33m:\u001b[0m\u001b[1;33m\u001b[0m\u001b[1;33m\u001b[0m\u001b[0m\n\u001b[0;32m    143\u001b[0m         \u001b[0mretain_graph\u001b[0m \u001b[1;33m=\u001b[0m \u001b[0mcreate_graph\u001b[0m\u001b[1;33m\u001b[0m\u001b[1;33m\u001b[0m\u001b[0m\n",
      "\u001b[1;32m~\\Anaconda3\\lib\\site-packages\\torch\\autograd\\__init__.py\u001b[0m in \u001b[0;36m_make_grads\u001b[1;34m(outputs, grads)\u001b[0m\n\u001b[0;32m     49\u001b[0m                 \u001b[1;32mif\u001b[0m \u001b[0mout\u001b[0m\u001b[1;33m.\u001b[0m\u001b[0mnumel\u001b[0m\u001b[1;33m(\u001b[0m\u001b[1;33m)\u001b[0m \u001b[1;33m!=\u001b[0m \u001b[1;36m1\u001b[0m\u001b[1;33m:\u001b[0m\u001b[1;33m\u001b[0m\u001b[1;33m\u001b[0m\u001b[0m\n\u001b[0;32m     50\u001b[0m                     \u001b[1;32mraise\u001b[0m \u001b[0mRuntimeError\u001b[0m\u001b[1;33m(\u001b[0m\u001b[1;34m\"grad can be implicitly created only for scalar outputs\"\u001b[0m\u001b[1;33m)\u001b[0m\u001b[1;33m\u001b[0m\u001b[1;33m\u001b[0m\u001b[0m\n\u001b[1;32m---> 51\u001b[1;33m                 \u001b[0mnew_grads\u001b[0m\u001b[1;33m.\u001b[0m\u001b[0mappend\u001b[0m\u001b[1;33m(\u001b[0m\u001b[0mtorch\u001b[0m\u001b[1;33m.\u001b[0m\u001b[0mones_like\u001b[0m\u001b[1;33m(\u001b[0m\u001b[0mout\u001b[0m\u001b[1;33m,\u001b[0m \u001b[0mmemory_format\u001b[0m\u001b[1;33m=\u001b[0m\u001b[0mtorch\u001b[0m\u001b[1;33m.\u001b[0m\u001b[0mpreserve_format\u001b[0m\u001b[1;33m)\u001b[0m\u001b[1;33m)\u001b[0m\u001b[1;33m\u001b[0m\u001b[1;33m\u001b[0m\u001b[0m\n\u001b[0m\u001b[0;32m     52\u001b[0m             \u001b[1;32melse\u001b[0m\u001b[1;33m:\u001b[0m\u001b[1;33m\u001b[0m\u001b[1;33m\u001b[0m\u001b[0m\n\u001b[0;32m     53\u001b[0m                 \u001b[0mnew_grads\u001b[0m\u001b[1;33m.\u001b[0m\u001b[0mappend\u001b[0m\u001b[1;33m(\u001b[0m\u001b[1;32mNone\u001b[0m\u001b[1;33m)\u001b[0m\u001b[1;33m\u001b[0m\u001b[1;33m\u001b[0m\u001b[0m\n",
      "\u001b[1;31mKeyboardInterrupt\u001b[0m: "
     ]
    }
   ],
   "source": [
    "#wandb.init(project=\"fl\", name=\"CNN_CIFAR_10_noniid\")\n",
    "#print((servers[0].client_pool[0].data))\n",
    "aggregates = []\n",
    "\n",
    "    \n",
    "for i in range(epochs):\n",
    "    for j in range(len(servers)):\n",
    "        servers[j].aggregate()\n",
    "        servers[j].broadcast()\n",
    "        total_correct = 0\n",
    "        #with torch.no_grad():\n",
    "        for _, (test_feature, test_label) in enumerate(testloader):\n",
    "            test_feature = test_feature.to(device)\n",
    "            test_label = test_label.to(device)\n",
    "            y_pred = servers[j].model(test_feature)\n",
    "            y_pred_decode = torch.argmax(y_pred, dim=1)\n",
    "\n",
    "            total_correct += y_pred_decode.eq(test_label).sum().item()\n",
    "            #print(str('total_correct ')+str(total_correct))\n",
    "        test_acc = total_correct / 10000\n",
    "\n",
    "        print(\"Overall acc: {}, overall_loss: {}\".format(servers[j].avg_acc, servers[j].avg_loss))\n",
    "        #wandb.log({\"acc\": servers[j].avg_acc, \"loss\": servers[j].avg_loss})\n",
    "#print(model.conv1.weight.grad)"
   ]
  },
  {
   "cell_type": "code",
   "execution_count": null,
   "metadata": {},
   "outputs": [],
   "source": []
  },
  {
   "cell_type": "code",
   "execution_count": null,
   "metadata": {},
   "outputs": [],
   "source": []
  },
  {
   "cell_type": "code",
   "execution_count": null,
   "metadata": {},
   "outputs": [],
   "source": []
  },
  {
   "cell_type": "code",
   "execution_count": null,
   "metadata": {},
   "outputs": [],
   "source": []
  }
 ],
 "metadata": {
  "kernelspec": {
   "display_name": "Python 3",
   "language": "python",
   "name": "python3"
  },
  "language_info": {
   "codemirror_mode": {
    "name": "ipython",
    "version": 3
   },
   "file_extension": ".py",
   "mimetype": "text/x-python",
   "name": "python",
   "nbconvert_exporter": "python",
   "pygments_lexer": "ipython3",
   "version": "3.7.6"
  }
 },
 "nbformat": 4,
 "nbformat_minor": 4
}
