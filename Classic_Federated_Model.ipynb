{
 "cells": [
  {
   "cell_type": "code",
   "execution_count": 1,
   "metadata": {},
   "outputs": [
    {
     "name": "stdout",
     "output_type": "stream",
     "text": [
      "^C\n"
     ]
    }
   ],
   "source": [
    "!pip install --upgrade wandb"
   ]
  },
  {
   "cell_type": "code",
   "execution_count": 2,
   "metadata": {},
   "outputs": [],
   "source": [
    "import torch\n",
    "import torchvision\n",
    "import torchvision.transforms as transforms\n",
    "import torch.optim as optim\n",
    "import torch.nn.functional as F\n",
    "import torch.nn as nn\n",
    "import wandb\n",
    "import os\n",
    "from typing import Any, Dict, List\n",
    "import copy\n",
    "import random\n",
    "import wandb"
   ]
  },
  {
   "cell_type": "code",
   "execution_count": 3,
   "metadata": {},
   "outputs": [],
   "source": [
    "device = torch.device(\"cuda\" if torch.cuda.is_available() else \"cpu\")\n",
    "os.environ[\"WANDB_API_KEY\"] = \"183c1a6a36cbdf0405f5baacb72690845ecc8573\""
   ]
  },
  {
   "cell_type": "code",
   "execution_count": 4,
   "metadata": {
    "scrolled": true
   },
   "outputs": [
    {
     "name": "stdout",
     "output_type": "stream",
     "text": [
      "Files already downloaded and verified\n",
      "Files already downloaded and verified\n"
     ]
    }
   ],
   "source": [
    "transform = transforms.Compose([\n",
    "    transforms.ToTensor(),\n",
    "    transforms.Normalize((0.5, 0.5, 0.5), (0.5, 0.5, 0.5))\n",
    "])\n",
    "\n",
    "'''mnist = torchvision.datasets.MNIST(root='mnist_data', train=True,download=True, transform=transform)\n",
    "\n",
    "trainset = torch.utils.data.DataLoader(dataset=mnist,\n",
    "                                               batch_size=100,\n",
    "                                               shuffle=True)\n",
    "testset = torch.utils.data.DataLoader(dataset=mnist,\n",
    "                                               batch_size=100,\n",
    "                                               shuffle=True)'''\n",
    "\n",
    "\n",
    "trainset = torchvision.datasets.CIFAR10(root='cifar_data', train=True,download=True, transform=transform)\n",
    "testset = torchvision.datasets.CIFAR10(root='cifar_data', train=False, download=True,transform=transform)\n",
    "\n",
    "# # This is for iid data\n",
    "# trainloader = torch.utils.data.DataLoader(trainset, \n",
    "#                                           batch_size=500,\n",
    "#                                           shuffle=True)\n",
    "testloader = torch.utils.data.DataLoader(testset,\n",
    "                                        batch_size=100,\n",
    "                                        shuffle=True)"
   ]
  },
  {
   "cell_type": "code",
   "execution_count": 5,
   "metadata": {},
   "outputs": [],
   "source": [
    "n_client = 10\n",
    "n_leader = n_client * 0.1\n",
    "chosen_prob = 0.8\n",
    "local_batch_size = 32\n",
    "local_epochs = 10"
   ]
  },
  {
   "cell_type": "code",
   "execution_count": 6,
   "metadata": {},
   "outputs": [],
   "source": [
    "epochs = 10\n",
    "criteria = nn.CrossEntropyLoss()\n",
    "optimizer = optim.SGD\n",
    "optimizer_conf = dict(\n",
    "    lr=0.001,\n",
    "    momentum=0.9\n",
    ")"
   ]
  },
  {
   "cell_type": "code",
   "execution_count": 7,
   "metadata": {},
   "outputs": [
    {
     "name": "stdout",
     "output_type": "stream",
     "text": [
      "Requirement already up-to-date: wandb in c:\\users\\lloflo\\anaconda3\\lib\\site-packages (0.12.15)\n",
      "Requirement already satisfied, skipping upgrade: Click!=8.0.0,>=7.0 in c:\\users\\lloflo\\anaconda3\\lib\\site-packages (from wandb) (7.0)\n",
      "Requirement already satisfied, skipping upgrade: six>=1.13.0 in c:\\users\\lloflo\\anaconda3\\lib\\site-packages (from wandb) (1.14.0)\n",
      "Requirement already satisfied, skipping upgrade: requests<3,>=2.0.0 in c:\\users\\lloflo\\anaconda3\\lib\\site-packages (from wandb) (2.22.0)\n",
      "Requirement already satisfied, skipping upgrade: shortuuid>=0.5.0 in c:\\users\\lloflo\\anaconda3\\lib\\site-packages (from wandb) (1.0.8)\n",
      "Requirement already satisfied, skipping upgrade: docker-pycreds>=0.4.0 in c:\\users\\lloflo\\anaconda3\\lib\\site-packages (from wandb) (0.4.0)\n",
      "Requirement already satisfied, skipping upgrade: sentry-sdk>=1.0.0 in c:\\users\\lloflo\\anaconda3\\lib\\site-packages (from wandb) (1.5.9)\n",
      "Requirement already satisfied, skipping upgrade: protobuf>=3.12.0 in c:\\users\\lloflo\\anaconda3\\lib\\site-packages (from wandb) (3.12.3)\n",
      "Requirement already satisfied, skipping upgrade: pathtools in c:\\users\\lloflo\\anaconda3\\lib\\site-packages (from wandb) (0.1.2)\n",
      "Requirement already satisfied, skipping upgrade: setproctitle in c:\\users\\lloflo\\anaconda3\\lib\\site-packages (from wandb) (1.2.2)\n",
      "Requirement already satisfied, skipping upgrade: python-dateutil>=2.6.1 in c:\\users\\lloflo\\anaconda3\\lib\\site-packages (from wandb) (2.8.1)\n",
      "Requirement already satisfied, skipping upgrade: PyYAML in c:\\users\\lloflo\\anaconda3\\lib\\site-packages (from wandb) (5.3)\n",
      "Requirement already satisfied, skipping upgrade: psutil>=5.0.0 in c:\\users\\lloflo\\anaconda3\\lib\\site-packages (from wandb) (5.6.7)\n",
      "Requirement already satisfied, skipping upgrade: promise<3,>=2.0 in c:\\users\\lloflo\\anaconda3\\lib\\site-packages (from wandb) (2.3)\n",
      "Requirement already satisfied, skipping upgrade: GitPython>=1.0.0 in c:\\users\\lloflo\\anaconda3\\lib\\site-packages (from wandb) (3.1.27)\n",
      "Requirement already satisfied, skipping upgrade: urllib3!=1.25.0,!=1.25.1,<1.26,>=1.21.1 in c:\\users\\lloflo\\anaconda3\\lib\\site-packages (from requests<3,>=2.0.0->wandb) (1.25.8)\n",
      "Requirement already satisfied, skipping upgrade: certifi>=2017.4.17 in c:\\users\\lloflo\\anaconda3\\lib\\site-packages (from requests<3,>=2.0.0->wandb) (2019.11.28)\n",
      "Requirement already satisfied, skipping upgrade: idna<2.9,>=2.5 in c:\\users\\lloflo\\anaconda3\\lib\\site-packages (from requests<3,>=2.0.0->wandb) (2.8)\n",
      "Requirement already satisfied, skipping upgrade: chardet<3.1.0,>=3.0.2 in c:\\users\\lloflo\\anaconda3\\lib\\site-packages (from requests<3,>=2.0.0->wandb) (3.0.4)\n",
      "Requirement already satisfied, skipping upgrade: setuptools in c:\\users\\lloflo\\anaconda3\\lib\\site-packages (from protobuf>=3.12.0->wandb) (45.2.0.post20200210)\n",
      "Requirement already satisfied, skipping upgrade: gitdb<5,>=4.0.1 in c:\\users\\lloflo\\anaconda3\\lib\\site-packages (from GitPython>=1.0.0->wandb) (4.0.9)\n",
      "Requirement already satisfied, skipping upgrade: typing-extensions>=3.7.4.3; python_version < \"3.8\" in c:\\users\\lloflo\\anaconda3\\lib\\site-packages (from GitPython>=1.0.0->wandb) (3.10.0.0)\n",
      "Requirement already satisfied, skipping upgrade: smmap<6,>=3.0.1 in c:\\users\\lloflo\\anaconda3\\lib\\site-packages (from gitdb<5,>=4.0.1->GitPython>=1.0.0->wandb) (5.0.0)\n"
     ]
    },
    {
     "name": "stderr",
     "output_type": "stream",
     "text": [
      "WARNING: Keyring is skipped due to an exception: (1312, 'CredRead', 'A specified logon session does not exist. It may already have been terminated')\n",
      "WARNING: Keyring is skipped due to an exception: (1312, 'CredRead', 'A specified logon session does not exist. It may already have been terminated')\n",
      "WARNING: Retrying (Retry(total=4, connect=None, read=None, redirect=None, status=None)) after connection broken by 'ConnectTimeoutError(<pip._vendor.urllib3.connection.VerifiedHTTPSConnection object at 0x00000221206076C8>, 'Connection to 10.230.7.15 timed out. (connect timeout=15)')': /simple/wandb/\n",
      "WARNING: Retrying (Retry(total=3, connect=None, read=None, redirect=None, status=None)) after connection broken by 'ConnectTimeoutError(<pip._vendor.urllib3.connection.VerifiedHTTPSConnection object at 0x0000022120381788>, 'Connection to 10.230.7.15 timed out. (connect timeout=15)')': /simple/wandb/\n",
      "WARNING: Retrying (Retry(total=2, connect=None, read=None, redirect=None, status=None)) after connection broken by 'ConnectTimeoutError(<pip._vendor.urllib3.connection.VerifiedHTTPSConnection object at 0x0000022120381388>, 'Connection to 10.230.7.15 timed out. (connect timeout=15)')': /simple/wandb/\n",
      "WARNING: Retrying (Retry(total=1, connect=None, read=None, redirect=None, status=None)) after connection broken by 'ConnectTimeoutError(<pip._vendor.urllib3.connection.VerifiedHTTPSConnection object at 0x0000022120602808>, 'Connection to 10.230.7.15 timed out. (connect timeout=15)')': /simple/wandb/\n",
      "WARNING: Retrying (Retry(total=0, connect=None, read=None, redirect=None, status=None)) after connection broken by 'ConnectTimeoutError(<pip._vendor.urllib3.connection.VerifiedHTTPSConnection object at 0x00000221205FDD08>, 'Connection to 10.230.7.15 timed out. (connect timeout=15)')': /simple/wandb/\n",
      "WARNING: Keyring is skipped due to an exception: (1312, 'CredRead', 'A specified logon session does not exist. It may already have been terminated')\n",
      "WARNING: Keyring is skipped due to an exception: (1312, 'CredRead', 'A specified logon session does not exist. It may already have been terminated')\n"
     ]
    },
    {
     "name": "stdout",
     "output_type": "stream",
     "text": [
      "Requirement already up-to-date: wandb in c:\\users\\lloflo\\anaconda3\\lib\\site-packages (0.12.15)\n",
      "Requirement already satisfied, skipping upgrade: psutil>=5.0.0 in c:\\users\\lloflo\\anaconda3\\lib\\site-packages (from wandb) (5.6.7)\n",
      "Requirement already satisfied, skipping upgrade: PyYAML in c:\\users\\lloflo\\anaconda3\\lib\\site-packages (from wandb) (5.3)\n",
      "Requirement already satisfied, skipping upgrade: six>=1.13.0 in c:\\users\\lloflo\\anaconda3\\lib\\site-packages (from wandb) (1.14.0)\n",
      "Requirement already satisfied, skipping upgrade: shortuuid>=0.5.0 in c:\\users\\lloflo\\anaconda3\\lib\\site-packages (from wandb) (1.0.8)\n",
      "Requirement already satisfied, skipping upgrade: sentry-sdk>=1.0.0 in c:\\users\\lloflo\\anaconda3\\lib\\site-packages (from wandb) (1.5.9)\n",
      "Requirement already satisfied, skipping upgrade: python-dateutil>=2.6.1 in c:\\users\\lloflo\\anaconda3\\lib\\site-packages (from wandb) (2.8.1)\n",
      "Requirement already satisfied, skipping upgrade: setproctitle in c:\\users\\lloflo\\anaconda3\\lib\\site-packages (from wandb) (1.2.2)\n",
      "Requirement already satisfied, skipping upgrade: Click!=8.0.0,>=7.0 in c:\\users\\lloflo\\anaconda3\\lib\\site-packages (from wandb) (7.0)\n",
      "Requirement already satisfied, skipping upgrade: promise<3,>=2.0 in c:\\users\\lloflo\\anaconda3\\lib\\site-packages (from wandb) (2.3)\n",
      "Requirement already satisfied, skipping upgrade: GitPython>=1.0.0 in c:\\users\\lloflo\\anaconda3\\lib\\site-packages (from wandb) (3.1.27)\n",
      "Requirement already satisfied, skipping upgrade: docker-pycreds>=0.4.0 in c:\\users\\lloflo\\anaconda3\\lib\\site-packages (from wandb) (0.4.0)\n",
      "Requirement already satisfied, skipping upgrade: requests<3,>=2.0.0 in c:\\users\\lloflo\\anaconda3\\lib\\site-packages (from wandb) (2.22.0)\n",
      "Requirement already satisfied, skipping upgrade: pathtools in c:\\users\\lloflo\\anaconda3\\lib\\site-packages (from wandb) (0.1.2)\n",
      "Requirement already satisfied, skipping upgrade: protobuf>=3.12.0 in c:\\users\\lloflo\\anaconda3\\lib\\site-packages (from wandb) (3.12.3)\n",
      "Requirement already satisfied, skipping upgrade: certifi in c:\\users\\lloflo\\anaconda3\\lib\\site-packages (from sentry-sdk>=1.0.0->wandb) (2019.11.28)\n",
      "Requirement already satisfied, skipping upgrade: urllib3>=1.10.0 in c:\\users\\lloflo\\anaconda3\\lib\\site-packages (from sentry-sdk>=1.0.0->wandb) (1.25.8)\n",
      "Requirement already satisfied, skipping upgrade: gitdb<5,>=4.0.1 in c:\\users\\lloflo\\anaconda3\\lib\\site-packages (from GitPython>=1.0.0->wandb) (4.0.9)\n",
      "Requirement already satisfied, skipping upgrade: typing-extensions>=3.7.4.3; python_version < \"3.8\" in c:\\users\\lloflo\\anaconda3\\lib\\site-packages (from GitPython>=1.0.0->wandb) (3.10.0.0)\n",
      "Requirement already satisfied, skipping upgrade: chardet<3.1.0,>=3.0.2 in c:\\users\\lloflo\\anaconda3\\lib\\site-packages (from requests<3,>=2.0.0->wandb) (3.0.4)\n",
      "Requirement already satisfied, skipping upgrade: idna<2.9,>=2.5 in c:\\users\\lloflo\\anaconda3\\lib\\site-packages (from requests<3,>=2.0.0->wandb) (2.8)\n",
      "Requirement already satisfied, skipping upgrade: setuptools in c:\\users\\lloflo\\anaconda3\\lib\\site-packages (from protobuf>=3.12.0->wandb) (45.2.0.post20200210)\n",
      "Requirement already satisfied, skipping upgrade: smmap<6,>=3.0.1 in c:\\users\\lloflo\\anaconda3\\lib\\site-packages (from gitdb<5,>=4.0.1->GitPython>=1.0.0->wandb) (5.0.0)\n"
     ]
    },
    {
     "name": "stderr",
     "output_type": "stream",
     "text": [
      "WARNING: Keyring is skipped due to an exception: (1312, 'CredRead', 'A specified logon session does not exist. It may already have been terminated')\n",
      "WARNING: Keyring is skipped due to an exception: (1312, 'CredRead', 'A specified logon session does not exist. It may already have been terminated')\n",
      "WARNING: Retrying (Retry(total=4, connect=None, read=None, redirect=None, status=None)) after connection broken by 'ConnectTimeoutError(<pip._vendor.urllib3.connection.VerifiedHTTPSConnection object at 0x0000019C1C5D7FC8>, 'Connection to 10.230.7.15 timed out. (connect timeout=15)')': /simple/wandb/\n",
      "WARNING: Retrying (Retry(total=3, connect=None, read=None, redirect=None, status=None)) after connection broken by 'ConnectTimeoutError(<pip._vendor.urllib3.connection.VerifiedHTTPSConnection object at 0x0000019C1C353508>, 'Connection to 10.230.7.15 timed out. (connect timeout=15)')': /simple/wandb/\n",
      "WARNING: Retrying (Retry(total=2, connect=None, read=None, redirect=None, status=None)) after connection broken by 'ConnectTimeoutError(<pip._vendor.urllib3.connection.VerifiedHTTPSConnection object at 0x0000019C1C3537C8>, 'Connection to 10.230.7.15 timed out. (connect timeout=15)')': /simple/wandb/\n",
      "WARNING: Retrying (Retry(total=1, connect=None, read=None, redirect=None, status=None)) after connection broken by 'ConnectTimeoutError(<pip._vendor.urllib3.connection.VerifiedHTTPSConnection object at 0x0000019C1C5D2A08>, 'Connection to 10.230.7.15 timed out. (connect timeout=15)')': /simple/wandb/\n",
      "WARNING: Retrying (Retry(total=0, connect=None, read=None, redirect=None, status=None)) after connection broken by 'ConnectTimeoutError(<pip._vendor.urllib3.connection.VerifiedHTTPSConnection object at 0x0000019C1C5D2048>, 'Connection to 10.230.7.15 timed out. (connect timeout=15)')': /simple/wandb/\n",
      "WARNING: Keyring is skipped due to an exception: (1312, 'CredRead', 'A specified logon session does not exist. It may already have been terminated')\n",
      "WARNING: Keyring is skipped due to an exception: (1312, 'CredRead', 'A specified logon session does not exist. It may already have been terminated')\n"
     ]
    },
    {
     "name": "stdout",
     "output_type": "stream",
     "text": [
      "Requirement already up-to-date: wandb in c:\\users\\lloflo\\anaconda3\\lib\\site-packages (0.12.15)\n",
      "Requirement already satisfied, skipping upgrade: docker-pycreds>=0.4.0 in c:\\users\\lloflo\\anaconda3\\lib\\site-packages (from wandb) (0.4.0)\n",
      "Requirement already satisfied, skipping upgrade: requests<3,>=2.0.0 in c:\\users\\lloflo\\anaconda3\\lib\\site-packages (from wandb) (2.22.0)\n",
      "Requirement already satisfied, skipping upgrade: pathtools in c:\\users\\lloflo\\anaconda3\\lib\\site-packages (from wandb) (0.1.2)\n",
      "Requirement already satisfied, skipping upgrade: promise<3,>=2.0 in c:\\users\\lloflo\\anaconda3\\lib\\site-packages (from wandb) (2.3)\n",
      "Requirement already satisfied, skipping upgrade: protobuf>=3.12.0 in c:\\users\\lloflo\\anaconda3\\lib\\site-packages (from wandb) (3.12.3)\n",
      "Requirement already satisfied, skipping upgrade: GitPython>=1.0.0 in c:\\users\\lloflo\\anaconda3\\lib\\site-packages (from wandb) (3.1.27)\n",
      "Requirement already satisfied, skipping upgrade: python-dateutil>=2.6.1 in c:\\users\\lloflo\\anaconda3\\lib\\site-packages (from wandb) (2.8.1)\n",
      "Requirement already satisfied, skipping upgrade: PyYAML in c:\\users\\lloflo\\anaconda3\\lib\\site-packages (from wandb) (5.3)\n",
      "Requirement already satisfied, skipping upgrade: setproctitle in c:\\users\\lloflo\\anaconda3\\lib\\site-packages (from wandb) (1.2.2)\n",
      "Requirement already satisfied, skipping upgrade: sentry-sdk>=1.0.0 in c:\\users\\lloflo\\anaconda3\\lib\\site-packages (from wandb) (1.5.9)\n",
      "Requirement already satisfied, skipping upgrade: Click!=8.0.0,>=7.0 in c:\\users\\lloflo\\anaconda3\\lib\\site-packages (from wandb) (7.0)\n",
      "Requirement already satisfied, skipping upgrade: shortuuid>=0.5.0 in c:\\users\\lloflo\\anaconda3\\lib\\site-packages (from wandb) (1.0.8)\n",
      "Requirement already satisfied, skipping upgrade: six>=1.13.0 in c:\\users\\lloflo\\anaconda3\\lib\\site-packages (from wandb) (1.14.0)\n",
      "Requirement already satisfied, skipping upgrade: psutil>=5.0.0 in c:\\users\\lloflo\\anaconda3\\lib\\site-packages (from wandb) (5.6.7)\n",
      "Requirement already satisfied, skipping upgrade: certifi>=2017.4.17 in c:\\users\\lloflo\\anaconda3\\lib\\site-packages (from requests<3,>=2.0.0->wandb) (2019.11.28)\n",
      "Requirement already satisfied, skipping upgrade: urllib3!=1.25.0,!=1.25.1,<1.26,>=1.21.1 in c:\\users\\lloflo\\anaconda3\\lib\\site-packages (from requests<3,>=2.0.0->wandb) (1.25.8)\n",
      "Requirement already satisfied, skipping upgrade: chardet<3.1.0,>=3.0.2 in c:\\users\\lloflo\\anaconda3\\lib\\site-packages (from requests<3,>=2.0.0->wandb) (3.0.4)\n",
      "Requirement already satisfied, skipping upgrade: idna<2.9,>=2.5 in c:\\users\\lloflo\\anaconda3\\lib\\site-packages (from requests<3,>=2.0.0->wandb) (2.8)\n",
      "Requirement already satisfied, skipping upgrade: setuptools in c:\\users\\lloflo\\anaconda3\\lib\\site-packages (from protobuf>=3.12.0->wandb) (45.2.0.post20200210)\n",
      "Requirement already satisfied, skipping upgrade: gitdb<5,>=4.0.1 in c:\\users\\lloflo\\anaconda3\\lib\\site-packages (from GitPython>=1.0.0->wandb) (4.0.9)\n",
      "Requirement already satisfied, skipping upgrade: typing-extensions>=3.7.4.3; python_version < \"3.8\" in c:\\users\\lloflo\\anaconda3\\lib\\site-packages (from GitPython>=1.0.0->wandb) (3.10.0.0)\n",
      "Requirement already satisfied, skipping upgrade: smmap<6,>=3.0.1 in c:\\users\\lloflo\\anaconda3\\lib\\site-packages (from gitdb<5,>=4.0.1->GitPython>=1.0.0->wandb) (5.0.0)\n",
      "[<clients.Client object at 0x000001FB0DF39188>, <clients.Client object at 0x000001FB13F62648>, <clients.Client object at 0x000001FB0DF25D08>, <clients.Client object at 0x000001FB13F787C8>, <clients.Client object at 0x000001FB13F78F88>, <clients.Client object at 0x000001FB13F9F7C8>, <clients.Client object at 0x000001FB13F9FF88>, <clients.Client object at 0x000001FB15D7C788>, <clients.Client object at 0x000001FB15D7CF48>, <clients.Client object at 0x000001FB15D89708>]\n"
     ]
    },
    {
     "name": "stderr",
     "output_type": "stream",
     "text": [
      "WARNING: Keyring is skipped due to an exception: (1312, 'CredRead', 'A specified logon session does not exist. It may already have been terminated')\n",
      "WARNING: Keyring is skipped due to an exception: (1312, 'CredRead', 'A specified logon session does not exist. It may already have been terminated')\n",
      "WARNING: Retrying (Retry(total=4, connect=None, read=None, redirect=None, status=None)) after connection broken by 'ConnectTimeoutError(<pip._vendor.urllib3.connection.VerifiedHTTPSConnection object at 0x0000011B078D7B88>, 'Connection to 10.230.7.15 timed out. (connect timeout=15)')': /simple/wandb/\n",
      "WARNING: Retrying (Retry(total=3, connect=None, read=None, redirect=None, status=None)) after connection broken by 'ConnectTimeoutError(<pip._vendor.urllib3.connection.VerifiedHTTPSConnection object at 0x0000011B07659108>, 'Connection to 10.230.7.15 timed out. (connect timeout=15)')': /simple/wandb/\n",
      "WARNING: Retrying (Retry(total=2, connect=None, read=None, redirect=None, status=None)) after connection broken by 'ConnectTimeoutError(<pip._vendor.urllib3.connection.VerifiedHTTPSConnection object at 0x0000011B07659EC8>, 'Connection to 10.230.7.15 timed out. (connect timeout=15)')': /simple/wandb/\n",
      "WARNING: Retrying (Retry(total=1, connect=None, read=None, redirect=None, status=None)) after connection broken by 'ConnectTimeoutError(<pip._vendor.urllib3.connection.VerifiedHTTPSConnection object at 0x0000011B078D3808>, 'Connection to 10.230.7.15 timed out. (connect timeout=15)')': /simple/wandb/\n",
      "WARNING: Retrying (Retry(total=0, connect=None, read=None, redirect=None, status=None)) after connection broken by 'ConnectTimeoutError(<pip._vendor.urllib3.connection.VerifiedHTTPSConnection object at 0x0000011B078D35C8>, 'Connection to 10.230.7.15 timed out. (connect timeout=15)')': /simple/wandb/\n",
      "WARNING: Keyring is skipped due to an exception: (1312, 'CredRead', 'A specified logon session does not exist. It may already have been terminated')\n",
      "WARNING: Keyring is skipped due to an exception: (1312, 'CredRead', 'A specified logon session does not exist. It may already have been terminated')\n"
     ]
    }
   ],
   "source": [
    "import custom_model\n",
    "import server\n",
    "model = custom_model.Net().to(device)\n",
    "\n",
    "server = server.Server(\n",
    "    model=model,\n",
    "    loss=criteria,\n",
    "    optimizer=optimizer,\n",
    "    n_client=n_client,\n",
    "    #n_leader=n_leader,\n",
    "    chosen_prob=chosen_prob,\n",
    "    optimizer_conf=optimizer_conf,\n",
    "    local_batch_size=local_batch_size,\n",
    "    local_epochs=local_epochs\n",
    ")\n",
    "\n",
    "print(server.client_pool)"
   ]
  },
  {
   "cell_type": "code",
   "execution_count": 8,
   "metadata": {},
   "outputs": [
    {
     "name": "stderr",
     "output_type": "stream",
     "text": [
      "10it [00:01,  5.85it/s]\n"
     ]
    }
   ],
   "source": [
    "from collections import Counter\n",
    "import random\n",
    "import numpy as np\n",
    "from tqdm import tqdm\n",
    "\n",
    "classes_pair = [(0, 1), (2, 3), (4, 5), (6, 7), (8, 9)]\n",
    "\n",
    "data_label = np.array(trainset.targets)\n",
    "\n",
    "chosen_counter = Counter()\n",
    "for _, client in tqdm(enumerate(server.client_pool)):\n",
    "    # sample until we have a pair of class with insufficient client owning\n",
    "    class_pair = random.choice(classes_pair)\n",
    "    while chosen_counter[class_pair] == 100:\n",
    "        class_pair = random.choice(classes_pair)\n",
    "        \n",
    "    chosen_counter[class_pair] += 1\n",
    "        \n",
    "    first_class, second_class = class_pair\n",
    "    first_class_sample_idx = list(np.where(data_label == first_class)[0])\n",
    "    second_class_sample_idx = list(np.where(data_label == second_class)[0])\n",
    "    \n",
    "    client_first_class_sample_idx = random.sample(first_class_sample_idx, k=500)\n",
    "    client_second_class_sample_idx = random.sample(second_class_sample_idx, k=500)\n",
    "    \n",
    "    client_data = []\n",
    "    \n",
    "    for i in range(500):\n",
    "        client_data.append(trainset[client_first_class_sample_idx[i]])\n",
    "        client_data.append(trainset[client_second_class_sample_idx[i]])\n",
    "    \n",
    "    client.setData(client_data)"
   ]
  },
  {
   "cell_type": "code",
   "execution_count": 11,
   "metadata": {},
   "outputs": [
    {
     "name": "stderr",
     "output_type": "stream",
     "text": [
      "wandb: Currently logged in as: minhrongcon2000 (use `wandb login --relogin` to force relogin)\n"
     ]
    },
    {
     "data": {
      "text/html": [
       "Tracking run with wandb version 0.12.11"
      ],
      "text/plain": [
       "<IPython.core.display.HTML object>"
      ]
     },
     "metadata": {},
     "output_type": "display_data"
    },
    {
     "data": {
      "text/html": [
       "Run data is saved locally in <code>C:\\Users\\lloyd\\Desktop\\VANET\\FL\\wandb\\run-20220318_170752-10k7mz7u</code>"
      ],
      "text/plain": [
       "<IPython.core.display.HTML object>"
      ]
     },
     "metadata": {},
     "output_type": "display_data"
    },
    {
     "data": {
      "text/html": [
       "Syncing run <strong><a href=\"https://wandb.ai/minhrongcon2000/fl/runs/10k7mz7u\" target=\"_blank\">CNN_CIFAR_10_noniid</a></strong> to <a href=\"https://wandb.ai/minhrongcon2000/fl\" target=\"_blank\">Weights & Biases</a> (<a href=\"https://wandb.me/run\" target=\"_blank\">docs</a>)<br/>"
      ],
      "text/plain": [
       "<IPython.core.display.HTML object>"
      ]
     },
     "metadata": {},
     "output_type": "display_data"
    },
    {
     "name": "stdout",
     "output_type": "stream",
     "text": [
      "Client 2: Acc 0.529296875, Loss: 0.6831940189003944\n",
      "Client 5: Acc 0.537109375, Loss: 0.6823066230863333\n",
      "Client 7: Acc 0.6826171875, Loss: 0.5974577460438013\n",
      "Client 9: Acc 0.654296875, Loss: 0.6089609898626804\n",
      "Client 1: Acc 0.71484375, Loss: 0.5653412090614438\n",
      "Client 6: Acc 0.544921875, Loss: 0.686870327219367\n",
      "Client 8: Acc 0.6494140625, Loss: 0.6110292114317417\n",
      "Client 3: Acc 0.6044921875, Loss: 0.6645826082676649\n",
      "Overall acc: 0.6146240234375, overall_loss: 0.6374678417341784, test_acc: 0.1361\n",
      "Client 1: Acc 0.7509765625, Loss: 0.5145068382844329\n",
      "Client 2: Acc 0.6259765625, Loss: 0.6444483250379562\n",
      "Client 0: Acc 0.7138671875, Loss: 0.5518572321161628\n",
      "Client 8: Acc 0.66796875, Loss: 0.5965033983811736\n",
      "Client 6: Acc 0.6103515625, Loss: 0.6632504556328058\n",
      "Client 9: Acc 0.6806640625, Loss: 0.5804040273651481\n",
      "Client 4: Acc 0.61328125, Loss: 0.6361487843096256\n",
      "Client 7: Acc 0.748046875, Loss: 0.5024575246497989\n",
      "Overall acc: 0.6763916015625, overall_loss: 0.586197073222138, test_acc: 0.1649\n",
      "Client 7: Acc 0.7587890625, Loss: 0.4773958930745721\n",
      "Client 3: Acc 0.751953125, Loss: 0.4810754721984267\n",
      "Client 1: Acc 0.7392578125, Loss: 0.48911960795521736\n",
      "Client 9: Acc 0.7109375, Loss: 0.5608280217275023\n",
      "Client 0: Acc 0.7373046875, Loss: 0.5095661608502269\n",
      "Client 6: Acc 0.5537109375, Loss: 0.7159126214683056\n",
      "Client 5: Acc 0.640625, Loss: 0.6117431446909904\n",
      "Client 2: Acc 0.6396484375, Loss: 0.6273716241121292\n",
      "Overall acc: 0.6915283203125, overall_loss: 0.5591265682596713, test_acc: 0.1089\n",
      "Client 8: Acc 0.7265625, Loss: 0.5258512701839209\n",
      "Client 1: Acc 0.771484375, Loss: 0.45197701547294855\n",
      "Client 3: Acc 0.775390625, Loss: 0.4537440538406372\n",
      "Client 2: Acc 0.650390625, Loss: 0.6240053893998265\n",
      "Client 6: Acc 0.62109375, Loss: 0.6509096045047045\n",
      "Client 0: Acc 0.7509765625, Loss: 0.4877098607830703\n",
      "Client 9: Acc 0.728515625, Loss: 0.5339526310563087\n",
      "Client 5: Acc 0.640625, Loss: 0.6008143266662955\n",
      "Overall acc: 0.7081298828125, overall_loss: 0.541120518988464, test_acc: 0.154\n",
      "Client 8: Acc 0.748046875, Loss: 0.49614883214235306\n",
      "Client 9: Acc 0.7568359375, Loss: 0.47866752929985523\n",
      "Client 1: Acc 0.787109375, Loss: 0.4345589675940573\n",
      "Client 6: Acc 0.654296875, Loss: 0.6255627777427435\n",
      "Client 4: Acc 0.65625, Loss: 0.5864297989755869\n",
      "Client 7: Acc 0.759765625, Loss: 0.47354081086814404\n",
      "Client 3: Acc 0.783203125, Loss: 0.4296911945566535\n",
      "Client 2: Acc 0.6748046875, Loss: 0.6057042758911848\n",
      "Overall acc: 0.7275390625, overall_loss: 0.5162880233838223, test_acc: 0.1526\n",
      "Client 2: Acc 0.6640625, Loss: 0.6132476674392819\n",
      "Client 0: Acc 0.775390625, Loss: 0.44134990125894547\n",
      "Client 4: Acc 0.6962890625, Loss: 0.5440355064347386\n",
      "Client 3: Acc 0.78515625, Loss: 0.41495585814118385\n",
      "Client 9: Acc 0.7763671875, Loss: 0.45701303519308567\n",
      "Client 7: Acc 0.791015625, Loss: 0.44408183824270964\n",
      "Client 6: Acc 0.6474609375, Loss: 0.6246311403810978\n",
      "Client 8: Acc 0.7666015625, Loss: 0.46496648993343115\n",
      "Overall acc: 0.73779296875, overall_loss: 0.5005351796280593, test_acc: 0.2044\n",
      "Client 7: Acc 0.791015625, Loss: 0.4309141421690583\n",
      "Client 2: Acc 0.6767578125, Loss: 0.5852036345750093\n",
      "Client 6: Acc 0.6689453125, Loss: 0.6009487370029092\n",
      "Client 9: Acc 0.7822265625, Loss: 0.45639693085104227\n",
      "Client 3: Acc 0.8173828125, Loss: 0.3628996629267931\n",
      "Client 1: Acc 0.7958984375, Loss: 0.4184989547356963\n",
      "Client 5: Acc 0.7275390625, Loss: 0.5169509155675769\n",
      "Client 8: Acc 0.7587890625, Loss: 0.4403400495648384\n",
      "Overall acc: 0.7523193359375, overall_loss: 0.4765191284241155, test_acc: 0.1643\n",
      "Client 4: Acc 0.724609375, Loss: 0.5171690322458744\n",
      "Client 5: Acc 0.7353515625, Loss: 0.5086967274546623\n",
      "Client 7: Acc 0.779296875, Loss: 0.44014372769743204\n",
      "Client 0: Acc 0.828125, Loss: 0.3588175354525447\n",
      "Client 2: Acc 0.7060546875, Loss: 0.5584070421755314\n",
      "Client 3: Acc 0.80859375, Loss: 0.3554631182923913\n",
      "Client 6: Acc 0.6474609375, Loss: 0.6375034227967262\n",
      "Client 8: Acc 0.79296875, Loss: 0.41221077693626285\n",
      "Overall acc: 0.7528076171875, overall_loss: 0.47355142288142815, test_acc: 0.1697\n",
      "Client 1: Acc 0.8173828125, Loss: 0.36050699977204204\n",
      "Client 3: Acc 0.8310546875, Loss: 0.32336730044335127\n",
      "Client 8: Acc 0.802734375, Loss: 0.3819644385948777\n",
      "Client 0: Acc 0.833984375, Loss: 0.34137740824371576\n",
      "Client 5: Acc 0.7958984375, Loss: 0.4187579369172454\n",
      "Client 7: Acc 0.8173828125, Loss: 0.3858522670343518\n",
      "Client 2: Acc 0.7060546875, Loss: 0.5465106070041656\n",
      "Client 4: Acc 0.791015625, Loss: 0.4109540181234479\n",
      "Overall acc: 0.7994384765625, overall_loss: 0.3961613720166497, test_acc: 0.1944\n",
      "Client 4: Acc 0.7861328125, Loss: 0.4192160293459892\n",
      "Client 9: Acc 0.8046875, Loss: 0.3921150201931596\n",
      "Client 7: Acc 0.8173828125, Loss: 0.37909377459436655\n",
      "Client 6: Acc 0.6591796875, Loss: 0.6202274719253182\n",
      "Client 8: Acc 0.7890625, Loss: 0.3985519730485976\n",
      "Client 1: Acc 0.8232421875, Loss: 0.36558121675625443\n",
      "Client 0: Acc 0.845703125, Loss: 0.3238436901010573\n",
      "Client 5: Acc 0.8095703125, Loss: 0.37676040385849774\n",
      "Overall acc: 0.7918701171875, overall_loss: 0.4094236974779051, test_acc: 0.235\n"
     ]
    }
   ],
   "source": [
    "wandb.init(project=\"fl\", name=\"CNN_CIFAR_10_noniid\")\n",
    "for i in range(epochs):\n",
    "    server.aggregate()\n",
    "    server.broadcast()\n",
    "    total_correct = 0\n",
    "    with torch.no_grad():\n",
    "        for _, (test_feature, test_label) in enumerate(testloader):\n",
    "            test_feature = test_feature.to(device)\n",
    "            test_label = test_label.to(device)\n",
    "            y_pred = server.model(test_feature)\n",
    "            y_pred_decode = torch.argmax(y_pred, dim=1)\n",
    "            \n",
    "            total_correct += y_pred_decode.eq(test_label).sum().item()\n",
    "    \n",
    "    test_acc = total_correct / 10000\n",
    "        \n",
    "    print(\"Overall acc: {}, overall_loss: {}, test_acc: {}\".format(server.avg_acc, server.avg_loss, test_acc))\n",
    "    wandb.log({\"acc\": server.avg_acc, \"loss\": server.avg_loss, \"test_acc\": test_acc})"
   ]
  },
  {
   "cell_type": "code",
   "execution_count": null,
   "metadata": {},
   "outputs": [],
   "source": []
  }
 ],
 "metadata": {
  "kernelspec": {
   "display_name": "Python 3",
   "language": "python",
   "name": "python3"
  },
  "language_info": {
   "codemirror_mode": {
    "name": "ipython",
    "version": 3
   },
   "file_extension": ".py",
   "mimetype": "text/x-python",
   "name": "python",
   "nbconvert_exporter": "python",
   "pygments_lexer": "ipython3",
   "version": "3.7.6"
  }
 },
 "nbformat": 4,
 "nbformat_minor": 4
}
