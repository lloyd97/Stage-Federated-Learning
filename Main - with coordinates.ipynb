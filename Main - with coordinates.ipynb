{
 "cells": [
  {
   "cell_type": "code",
   "execution_count": 1,
   "metadata": {},
   "outputs": [
    {
     "name": "stdout",
     "output_type": "stream",
     "text": [
      "Requirement already up-to-date: wandb in c:\\users\\lloyd\\anaconda3\\lib\\site-packages (0.12.11)\n",
      "Requirement already satisfied, skipping upgrade: protobuf>=3.12.0 in c:\\users\\lloyd\\anaconda3\\lib\\site-packages (from wandb) (3.19.4)\n",
      "Requirement already satisfied, skipping upgrade: yaspin>=1.0.0 in c:\\users\\lloyd\\anaconda3\\lib\\site-packages (from wandb) (2.1.0)\n",
      "Requirement already satisfied, skipping upgrade: promise<3,>=2.0 in c:\\users\\lloyd\\anaconda3\\lib\\site-packages (from wandb) (2.3)\n",
      "Requirement already satisfied, skipping upgrade: python-dateutil>=2.6.1 in c:\\users\\lloyd\\anaconda3\\lib\\site-packages (from wandb) (2.8.1)\n",
      "Requirement already satisfied, skipping upgrade: six>=1.13.0 in c:\\users\\lloyd\\anaconda3\\lib\\site-packages (from wandb) (1.16.0)\n",
      "Requirement already satisfied, skipping upgrade: sentry-sdk>=1.0.0 in c:\\users\\lloyd\\anaconda3\\lib\\site-packages (from wandb) (1.5.7)\n",
      "Requirement already satisfied, skipping upgrade: requests<3,>=2.0.0 in c:\\users\\lloyd\\anaconda3\\lib\\site-packages (from wandb) (2.22.0)\n",
      "Requirement already satisfied, skipping upgrade: pathtools in c:\\users\\lloyd\\anaconda3\\lib\\site-packages (from wandb) (0.1.2)\n",
      "Requirement already satisfied, skipping upgrade: GitPython>=1.0.0 in c:\\users\\lloyd\\anaconda3\\lib\\site-packages (from wandb) (3.1.27)\n",
      "Requirement already satisfied, skipping upgrade: shortuuid>=0.5.0 in c:\\users\\lloyd\\anaconda3\\lib\\site-packages (from wandb) (1.0.8)\n",
      "Requirement already satisfied, skipping upgrade: psutil>=5.0.0 in c:\\users\\lloyd\\anaconda3\\lib\\site-packages (from wandb) (5.6.7)\n",
      "Requirement already satisfied, skipping upgrade: PyYAML in c:\\users\\lloyd\\anaconda3\\lib\\site-packages (from wandb) (5.3)\n",
      "Requirement already satisfied, skipping upgrade: Click!=8.0.0,>=7.0 in c:\\users\\lloyd\\anaconda3\\lib\\site-packages (from wandb) (7.0)\n",
      "Requirement already satisfied, skipping upgrade: docker-pycreds>=0.4.0 in c:\\users\\lloyd\\anaconda3\\lib\\site-packages (from wandb) (0.4.0)\n",
      "Requirement already satisfied, skipping upgrade: setproctitle in c:\\users\\lloyd\\anaconda3\\lib\\site-packages (from wandb) (1.2.2)\n",
      "Requirement already satisfied, skipping upgrade: termcolor<2.0.0,>=1.1.0 in c:\\users\\lloyd\\anaconda3\\lib\\site-packages (from yaspin>=1.0.0->wandb) (1.1.0)\n",
      "Requirement already satisfied, skipping upgrade: certifi in c:\\users\\lloyd\\anaconda3\\lib\\site-packages (from sentry-sdk>=1.0.0->wandb) (2019.11.28)\n",
      "Requirement already satisfied, skipping upgrade: urllib3>=1.10.0 in c:\\users\\lloyd\\anaconda3\\lib\\site-packages (from sentry-sdk>=1.0.0->wandb) (1.25.8)\n",
      "Requirement already satisfied, skipping upgrade: chardet<3.1.0,>=3.0.2 in c:\\users\\lloyd\\anaconda3\\lib\\site-packages (from requests<3,>=2.0.0->wandb) (3.0.4)\n",
      "Requirement already satisfied, skipping upgrade: idna<2.9,>=2.5 in c:\\users\\lloyd\\anaconda3\\lib\\site-packages (from requests<3,>=2.0.0->wandb) (2.8)\n",
      "Requirement already satisfied, skipping upgrade: gitdb<5,>=4.0.1 in c:\\users\\lloyd\\anaconda3\\lib\\site-packages (from GitPython>=1.0.0->wandb) (4.0.9)\n",
      "Requirement already satisfied, skipping upgrade: typing-extensions>=3.7.4.3; python_version < \"3.8\" in c:\\users\\lloyd\\anaconda3\\lib\\site-packages (from GitPython>=1.0.0->wandb) (4.1.1)\n",
      "Requirement already satisfied, skipping upgrade: smmap<6,>=3.0.1 in c:\\users\\lloyd\\anaconda3\\lib\\site-packages (from gitdb<5,>=4.0.1->GitPython>=1.0.0->wandb) (5.0.0)\n"
     ]
    }
   ],
   "source": [
    "!pip install --upgrade wandb"
   ]
  },
  {
   "cell_type": "code",
   "execution_count": 1,
   "metadata": {},
   "outputs": [],
   "source": [
    "import torch\n",
    "import torchvision\n",
    "import torchvision.transforms as transforms\n",
    "import torch.optim as optim\n",
    "import torch.nn.functional as F\n",
    "import torch.nn as nn\n",
    "import wandb\n",
    "import os\n",
    "from typing import Any, Dict, List\n",
    "import copy\n",
    "import random\n",
    "import wandb"
   ]
  },
  {
   "cell_type": "code",
   "execution_count": 2,
   "metadata": {},
   "outputs": [],
   "source": [
    "device = torch.device(\"cuda\" if torch.cuda.is_available() else \"cpu\")\n",
    "os.environ[\"WANDB_API_KEY\"] = \"183c1a6a36cbdf0405f5baacb72690845ecc8573\""
   ]
  },
  {
   "cell_type": "code",
   "execution_count": 3,
   "metadata": {
    "scrolled": true
   },
   "outputs": [
    {
     "name": "stdout",
     "output_type": "stream",
     "text": [
      "Files already downloaded and verified\n",
      "Files already downloaded and verified\n"
     ]
    }
   ],
   "source": [
    "transform = transforms.Compose([\n",
    "    transforms.ToTensor(),\n",
    "    transforms.Normalize((0.5, 0.5, 0.5), (0.5, 0.5, 0.5))\n",
    "])\n",
    "\n",
    "'''mnist = torchvision.datasets.MNIST(root='mnist_data', train=True,download=True, transform=transform)\n",
    "\n",
    "trainset = torch.utils.data.DataLoader(dataset=mnist,\n",
    "                                               batch_size=100,\n",
    "                                               shuffle=True)\n",
    "testset = torch.utils.data.DataLoader(dataset=mnist,\n",
    "                                               batch_size=100,\n",
    "                                               shuffle=True)'''\n",
    "\n",
    "\n",
    "trainset = torchvision.datasets.CIFAR10(root='cifar_data', train=True,download=True, transform=transform)\n",
    "testset = torchvision.datasets.CIFAR10(root='cifar_data', train=False, download=True,transform=transform)\n",
    "\n",
    "# # This is for iid data\n",
    "# trainloader = torch.utils.data.DataLoader(trainset, \n",
    "#                                           batch_size=500,\n",
    "#                                           shuffle=True)\n",
    "testloader = torch.utils.data.DataLoader(testset,\n",
    "                                        batch_size=100,\n",
    "                                        shuffle=True)"
   ]
  },
  {
   "cell_type": "code",
   "execution_count": 4,
   "metadata": {},
   "outputs": [],
   "source": [
    "n_client = 20\n",
    "n_leader = int(n_client * 0.1)\n",
    "chosen_prob = 0.8\n",
    "local_batch_size = 32\n",
    "local_epochs = 10"
   ]
  },
  {
   "cell_type": "code",
   "execution_count": 5,
   "metadata": {},
   "outputs": [],
   "source": [
    "epochs = 10\n",
    "criteria = nn.CrossEntropyLoss()\n",
    "optimizer = optim.SGD\n",
    "optimizer_conf = dict(\n",
    "    lr=0.001,\n",
    "    momentum=0.9\n",
    ")"
   ]
  },
  {
   "cell_type": "code",
   "execution_count": 6,
   "metadata": {},
   "outputs": [
    {
     "name": "stdout",
     "output_type": "stream",
     "text": [
      "Requirement already up-to-date: wandb in c:\\users\\lloflo\\anaconda3\\lib\\site-packages (0.12.15)\n",
      "Requirement already satisfied, skipping upgrade: shortuuid>=0.5.0 in c:\\users\\lloflo\\anaconda3\\lib\\site-packages (from wandb) (1.0.8)\n",
      "Requirement already satisfied, skipping upgrade: setproctitle in c:\\users\\lloflo\\anaconda3\\lib\\site-packages (from wandb) (1.2.2)\n",
      "Requirement already satisfied, skipping upgrade: protobuf>=3.12.0 in c:\\users\\lloflo\\anaconda3\\lib\\site-packages (from wandb) (3.12.3)\n",
      "Requirement already satisfied, skipping upgrade: requests<3,>=2.0.0 in c:\\users\\lloflo\\anaconda3\\lib\\site-packages (from wandb) (2.22.0)\n",
      "Requirement already satisfied, skipping upgrade: sentry-sdk>=1.0.0 in c:\\users\\lloflo\\anaconda3\\lib\\site-packages (from wandb) (1.5.9)\n",
      "Requirement already satisfied, skipping upgrade: GitPython>=1.0.0 in c:\\users\\lloflo\\anaconda3\\lib\\site-packages (from wandb) (3.1.27)\n",
      "Requirement already satisfied, skipping upgrade: docker-pycreds>=0.4.0 in c:\\users\\lloflo\\anaconda3\\lib\\site-packages (from wandb) (0.4.0)\n",
      "Requirement already satisfied, skipping upgrade: Click!=8.0.0,>=7.0 in c:\\users\\lloflo\\anaconda3\\lib\\site-packages (from wandb) (7.0)\n",
      "Requirement already satisfied, skipping upgrade: python-dateutil>=2.6.1 in c:\\users\\lloflo\\anaconda3\\lib\\site-packages (from wandb) (2.8.1)\n",
      "Requirement already satisfied, skipping upgrade: pathtools in c:\\users\\lloflo\\anaconda3\\lib\\site-packages (from wandb) (0.1.2)\n",
      "Requirement already satisfied, skipping upgrade: six>=1.13.0 in c:\\users\\lloflo\\anaconda3\\lib\\site-packages (from wandb) (1.14.0)\n",
      "Requirement already satisfied, skipping upgrade: promise<3,>=2.0 in c:\\users\\lloflo\\anaconda3\\lib\\site-packages (from wandb) (2.3)\n",
      "Requirement already satisfied, skipping upgrade: psutil>=5.0.0 in c:\\users\\lloflo\\anaconda3\\lib\\site-packages (from wandb) (5.6.7)\n",
      "Requirement already satisfied, skipping upgrade: PyYAML in c:\\users\\lloflo\\anaconda3\\lib\\site-packages (from wandb) (5.3)\n",
      "Requirement already satisfied, skipping upgrade: setuptools in c:\\users\\lloflo\\anaconda3\\lib\\site-packages (from protobuf>=3.12.0->wandb) (45.2.0.post20200210)\n",
      "Requirement already satisfied, skipping upgrade: urllib3!=1.25.0,!=1.25.1,<1.26,>=1.21.1 in c:\\users\\lloflo\\anaconda3\\lib\\site-packages (from requests<3,>=2.0.0->wandb) (1.25.8)\n",
      "Requirement already satisfied, skipping upgrade: chardet<3.1.0,>=3.0.2 in c:\\users\\lloflo\\anaconda3\\lib\\site-packages (from requests<3,>=2.0.0->wandb) (3.0.4)\n",
      "Requirement already satisfied, skipping upgrade: idna<2.9,>=2.5 in c:\\users\\lloflo\\anaconda3\\lib\\site-packages (from requests<3,>=2.0.0->wandb) (2.8)\n",
      "Requirement already satisfied, skipping upgrade: certifi>=2017.4.17 in c:\\users\\lloflo\\anaconda3\\lib\\site-packages (from requests<3,>=2.0.0->wandb) (2019.11.28)\n",
      "Requirement already satisfied, skipping upgrade: typing-extensions>=3.7.4.3; python_version < \"3.8\" in c:\\users\\lloflo\\anaconda3\\lib\\site-packages (from GitPython>=1.0.0->wandb) (3.10.0.0)\n",
      "Requirement already satisfied, skipping upgrade: gitdb<5,>=4.0.1 in c:\\users\\lloflo\\anaconda3\\lib\\site-packages (from GitPython>=1.0.0->wandb) (4.0.9)\n",
      "Requirement already satisfied, skipping upgrade: smmap<6,>=3.0.1 in c:\\users\\lloflo\\anaconda3\\lib\\site-packages (from gitdb<5,>=4.0.1->GitPython>=1.0.0->wandb) (5.0.0)\n"
     ]
    },
    {
     "name": "stderr",
     "output_type": "stream",
     "text": [
      "WARNING: Keyring is skipped due to an exception: (1312, 'CredRead', 'A specified logon session does not exist. It may already have been terminated')\n",
      "WARNING: Keyring is skipped due to an exception: (1312, 'CredRead', 'A specified logon session does not exist. It may already have been terminated')\n",
      "WARNING: Retrying (Retry(total=4, connect=None, read=None, redirect=None, status=None)) after connection broken by 'ConnectTimeoutError(<pip._vendor.urllib3.connection.VerifiedHTTPSConnection object at 0x000001EF237C6288>, 'Connection to 10.230.7.15 timed out. (connect timeout=15)')': /simple/wandb/\n",
      "WARNING: Retrying (Retry(total=3, connect=None, read=None, redirect=None, status=None)) after connection broken by 'ConnectTimeoutError(<pip._vendor.urllib3.connection.VerifiedHTTPSConnection object at 0x000001EF23539448>, 'Connection to 10.230.7.15 timed out. (connect timeout=15)')': /simple/wandb/\n",
      "WARNING: Retrying (Retry(total=2, connect=None, read=None, redirect=None, status=None)) after connection broken by 'ConnectTimeoutError(<pip._vendor.urllib3.connection.VerifiedHTTPSConnection object at 0x000001EF23539E48>, 'Connection to 10.230.7.15 timed out. (connect timeout=15)')': /simple/wandb/\n",
      "WARNING: Retrying (Retry(total=1, connect=None, read=None, redirect=None, status=None)) after connection broken by 'ConnectTimeoutError(<pip._vendor.urllib3.connection.VerifiedHTTPSConnection object at 0x000001EF237C1FC8>, 'Connection to 10.230.7.15 timed out. (connect timeout=15)')': /simple/wandb/\n",
      "WARNING: Retrying (Retry(total=0, connect=None, read=None, redirect=None, status=None)) after connection broken by 'ConnectTimeoutError(<pip._vendor.urllib3.connection.VerifiedHTTPSConnection object at 0x000001EF237C1308>, 'Connection to 10.230.7.15 timed out. (connect timeout=15)')': /simple/wandb/\n",
      "WARNING: Keyring is skipped due to an exception: (1312, 'CredRead', 'A specified logon session does not exist. It may already have been terminated')\n",
      "WARNING: Keyring is skipped due to an exception: (1312, 'CredRead', 'A specified logon session does not exist. It may already have been terminated')\n"
     ]
    },
    {
     "name": "stdout",
     "output_type": "stream",
     "text": [
      "Requirement already up-to-date: wandb in c:\\users\\lloflo\\anaconda3\\lib\\site-packages (0.12.15)\n",
      "Requirement already satisfied, skipping upgrade: pathtools in c:\\users\\lloflo\\anaconda3\\lib\\site-packages (from wandb) (0.1.2)\n",
      "Requirement already satisfied, skipping upgrade: promise<3,>=2.0 in c:\\users\\lloflo\\anaconda3\\lib\\site-packages (from wandb) (2.3)\n",
      "Requirement already satisfied, skipping upgrade: docker-pycreds>=0.4.0 in c:\\users\\lloflo\\anaconda3\\lib\\site-packages (from wandb) (0.4.0)\n",
      "Requirement already satisfied, skipping upgrade: PyYAML in c:\\users\\lloflo\\anaconda3\\lib\\site-packages (from wandb) (5.3)\n",
      "Requirement already satisfied, skipping upgrade: GitPython>=1.0.0 in c:\\users\\lloflo\\anaconda3\\lib\\site-packages (from wandb) (3.1.27)\n",
      "Requirement already satisfied, skipping upgrade: requests<3,>=2.0.0 in c:\\users\\lloflo\\anaconda3\\lib\\site-packages (from wandb) (2.22.0)\n",
      "Requirement already satisfied, skipping upgrade: python-dateutil>=2.6.1 in c:\\users\\lloflo\\anaconda3\\lib\\site-packages (from wandb) (2.8.1)\n",
      "Requirement already satisfied, skipping upgrade: shortuuid>=0.5.0 in c:\\users\\lloflo\\anaconda3\\lib\\site-packages (from wandb) (1.0.8)\n",
      "Requirement already satisfied, skipping upgrade: six>=1.13.0 in c:\\users\\lloflo\\anaconda3\\lib\\site-packages (from wandb) (1.14.0)\n",
      "Requirement already satisfied, skipping upgrade: setproctitle in c:\\users\\lloflo\\anaconda3\\lib\\site-packages (from wandb) (1.2.2)\n",
      "Requirement already satisfied, skipping upgrade: Click!=8.0.0,>=7.0 in c:\\users\\lloflo\\anaconda3\\lib\\site-packages (from wandb) (7.0)\n",
      "Requirement already satisfied, skipping upgrade: protobuf>=3.12.0 in c:\\users\\lloflo\\anaconda3\\lib\\site-packages (from wandb) (3.12.3)\n",
      "Requirement already satisfied, skipping upgrade: psutil>=5.0.0 in c:\\users\\lloflo\\anaconda3\\lib\\site-packages (from wandb) (5.6.7)\n",
      "Requirement already satisfied, skipping upgrade: sentry-sdk>=1.0.0 in c:\\users\\lloflo\\anaconda3\\lib\\site-packages (from wandb) (1.5.9)\n",
      "Requirement already satisfied, skipping upgrade: typing-extensions>=3.7.4.3; python_version < \"3.8\" in c:\\users\\lloflo\\anaconda3\\lib\\site-packages (from GitPython>=1.0.0->wandb) (3.10.0.0)\n",
      "Requirement already satisfied, skipping upgrade: gitdb<5,>=4.0.1 in c:\\users\\lloflo\\anaconda3\\lib\\site-packages (from GitPython>=1.0.0->wandb) (4.0.9)\n",
      "Requirement already satisfied, skipping upgrade: certifi>=2017.4.17 in c:\\users\\lloflo\\anaconda3\\lib\\site-packages (from requests<3,>=2.0.0->wandb) (2019.11.28)\n",
      "Requirement already satisfied, skipping upgrade: chardet<3.1.0,>=3.0.2 in c:\\users\\lloflo\\anaconda3\\lib\\site-packages (from requests<3,>=2.0.0->wandb) (3.0.4)\n",
      "Requirement already satisfied, skipping upgrade: urllib3!=1.25.0,!=1.25.1,<1.26,>=1.21.1 in c:\\users\\lloflo\\anaconda3\\lib\\site-packages (from requests<3,>=2.0.0->wandb) (1.25.8)\n",
      "Requirement already satisfied, skipping upgrade: idna<2.9,>=2.5 in c:\\users\\lloflo\\anaconda3\\lib\\site-packages (from requests<3,>=2.0.0->wandb) (2.8)\n",
      "Requirement already satisfied, skipping upgrade: setuptools in c:\\users\\lloflo\\anaconda3\\lib\\site-packages (from protobuf>=3.12.0->wandb) (45.2.0.post20200210)\n",
      "Requirement already satisfied, skipping upgrade: smmap<6,>=3.0.1 in c:\\users\\lloflo\\anaconda3\\lib\\site-packages (from gitdb<5,>=4.0.1->GitPython>=1.0.0->wandb) (5.0.0)\n"
     ]
    },
    {
     "name": "stderr",
     "output_type": "stream",
     "text": [
      "WARNING: Keyring is skipped due to an exception: (1312, 'CredRead', 'A specified logon session does not exist. It may already have been terminated')\n",
      "WARNING: Keyring is skipped due to an exception: (1312, 'CredRead', 'A specified logon session does not exist. It may already have been terminated')\n",
      "WARNING: Retrying (Retry(total=4, connect=None, read=None, redirect=None, status=None)) after connection broken by 'ConnectTimeoutError(<pip._vendor.urllib3.connection.VerifiedHTTPSConnection object at 0x00000267325B68C8>, 'Connection to 10.230.7.15 timed out. (connect timeout=15)')': /simple/wandb/\n",
      "WARNING: Retrying (Retry(total=3, connect=None, read=None, redirect=None, status=None)) after connection broken by 'ConnectTimeoutError(<pip._vendor.urllib3.connection.VerifiedHTTPSConnection object at 0x0000026732331448>, 'Connection to 10.230.7.15 timed out. (connect timeout=15)')': /simple/wandb/\n",
      "WARNING: Retrying (Retry(total=2, connect=None, read=None, redirect=None, status=None)) after connection broken by 'ConnectTimeoutError(<pip._vendor.urllib3.connection.VerifiedHTTPSConnection object at 0x0000026732331748>, 'Connection to 10.230.7.15 timed out. (connect timeout=15)')': /simple/wandb/\n",
      "WARNING: Retrying (Retry(total=1, connect=None, read=None, redirect=None, status=None)) after connection broken by 'ConnectTimeoutError(<pip._vendor.urllib3.connection.VerifiedHTTPSConnection object at 0x00000267325B1188>, 'Connection to 10.230.7.15 timed out. (connect timeout=15)')': /simple/wandb/\n",
      "WARNING: Retrying (Retry(total=0, connect=None, read=None, redirect=None, status=None)) after connection broken by 'ConnectTimeoutError(<pip._vendor.urllib3.connection.VerifiedHTTPSConnection object at 0x00000267325B1348>, 'Connection to 10.230.7.15 timed out. (connect timeout=15)')': /simple/wandb/\n",
      "WARNING: Keyring is skipped due to an exception: (1312, 'CredRead', 'A specified logon session does not exist. It may already have been terminated')\n",
      "WARNING: Keyring is skipped due to an exception: (1312, 'CredRead', 'A specified logon session does not exist. It may already have been terminated')\n"
     ]
    },
    {
     "name": "stdout",
     "output_type": "stream",
     "text": [
      "Requirement already up-to-date: wandb in c:\\users\\lloflo\\anaconda3\\lib\\site-packages (0.12.15)\n",
      "Requirement already satisfied, skipping upgrade: PyYAML in c:\\users\\lloflo\\anaconda3\\lib\\site-packages (from wandb) (5.3)\n",
      "Requirement already satisfied, skipping upgrade: promise<3,>=2.0 in c:\\users\\lloflo\\anaconda3\\lib\\site-packages (from wandb) (2.3)\n",
      "Requirement already satisfied, skipping upgrade: requests<3,>=2.0.0 in c:\\users\\lloflo\\anaconda3\\lib\\site-packages (from wandb) (2.22.0)\n",
      "Requirement already satisfied, skipping upgrade: psutil>=5.0.0 in c:\\users\\lloflo\\anaconda3\\lib\\site-packages (from wandb) (5.6.7)\n",
      "Requirement already satisfied, skipping upgrade: six>=1.13.0 in c:\\users\\lloflo\\anaconda3\\lib\\site-packages (from wandb) (1.14.0)\n",
      "Requirement already satisfied, skipping upgrade: protobuf>=3.12.0 in c:\\users\\lloflo\\anaconda3\\lib\\site-packages (from wandb) (3.12.3)\n",
      "Requirement already satisfied, skipping upgrade: pathtools in c:\\users\\lloflo\\anaconda3\\lib\\site-packages (from wandb) (0.1.2)\n",
      "Requirement already satisfied, skipping upgrade: python-dateutil>=2.6.1 in c:\\users\\lloflo\\anaconda3\\lib\\site-packages (from wandb) (2.8.1)\n",
      "Requirement already satisfied, skipping upgrade: Click!=8.0.0,>=7.0 in c:\\users\\lloflo\\anaconda3\\lib\\site-packages (from wandb) (7.0)\n",
      "Requirement already satisfied, skipping upgrade: shortuuid>=0.5.0 in c:\\users\\lloflo\\anaconda3\\lib\\site-packages (from wandb) (1.0.8)\n",
      "Requirement already satisfied, skipping upgrade: GitPython>=1.0.0 in c:\\users\\lloflo\\anaconda3\\lib\\site-packages (from wandb) (3.1.27)\n",
      "Requirement already satisfied, skipping upgrade: setproctitle in c:\\users\\lloflo\\anaconda3\\lib\\site-packages (from wandb) (1.2.2)\n",
      "Requirement already satisfied, skipping upgrade: docker-pycreds>=0.4.0 in c:\\users\\lloflo\\anaconda3\\lib\\site-packages (from wandb) (0.4.0)\n",
      "Requirement already satisfied, skipping upgrade: sentry-sdk>=1.0.0 in c:\\users\\lloflo\\anaconda3\\lib\\site-packages (from wandb) (1.5.9)\n",
      "Requirement already satisfied, skipping upgrade: chardet<3.1.0,>=3.0.2 in c:\\users\\lloflo\\anaconda3\\lib\\site-packages (from requests<3,>=2.0.0->wandb) (3.0.4)\n",
      "Requirement already satisfied, skipping upgrade: urllib3!=1.25.0,!=1.25.1,<1.26,>=1.21.1 in c:\\users\\lloflo\\anaconda3\\lib\\site-packages (from requests<3,>=2.0.0->wandb) (1.25.8)\n",
      "Requirement already satisfied, skipping upgrade: certifi>=2017.4.17 in c:\\users\\lloflo\\anaconda3\\lib\\site-packages (from requests<3,>=2.0.0->wandb) (2019.11.28)\n",
      "Requirement already satisfied, skipping upgrade: idna<2.9,>=2.5 in c:\\users\\lloflo\\anaconda3\\lib\\site-packages (from requests<3,>=2.0.0->wandb) (2.8)\n",
      "Requirement already satisfied, skipping upgrade: setuptools in c:\\users\\lloflo\\anaconda3\\lib\\site-packages (from protobuf>=3.12.0->wandb) (45.2.0.post20200210)\n",
      "Requirement already satisfied, skipping upgrade: typing-extensions>=3.7.4.3; python_version < \"3.8\" in c:\\users\\lloflo\\anaconda3\\lib\\site-packages (from GitPython>=1.0.0->wandb) (3.10.0.0)\n",
      "Requirement already satisfied, skipping upgrade: gitdb<5,>=4.0.1 in c:\\users\\lloflo\\anaconda3\\lib\\site-packages (from GitPython>=1.0.0->wandb) (4.0.9)\n",
      "Requirement already satisfied, skipping upgrade: smmap<6,>=3.0.1 in c:\\users\\lloflo\\anaconda3\\lib\\site-packages (from gitdb<5,>=4.0.1->GitPython>=1.0.0->wandb) (5.0.0)\n",
      "2\n"
     ]
    },
    {
     "name": "stderr",
     "output_type": "stream",
     "text": [
      "WARNING: Keyring is skipped due to an exception: (1312, 'CredRead', 'A specified logon session does not exist. It may already have been terminated')\n",
      "WARNING: Keyring is skipped due to an exception: (1312, 'CredRead', 'A specified logon session does not exist. It may already have been terminated')\n",
      "WARNING: Retrying (Retry(total=4, connect=None, read=None, redirect=None, status=None)) after connection broken by 'ConnectTimeoutError(<pip._vendor.urllib3.connection.VerifiedHTTPSConnection object at 0x0000013040586A48>, 'Connection to 10.230.7.15 timed out. (connect timeout=15)')': /simple/wandb/\n",
      "WARNING: Retrying (Retry(total=3, connect=None, read=None, redirect=None, status=None)) after connection broken by 'ConnectTimeoutError(<pip._vendor.urllib3.connection.VerifiedHTTPSConnection object at 0x0000013040305808>, 'Connection to 10.230.7.15 timed out. (connect timeout=15)')': /simple/wandb/\n",
      "WARNING: Retrying (Retry(total=2, connect=None, read=None, redirect=None, status=None)) after connection broken by 'ConnectTimeoutError(<pip._vendor.urllib3.connection.VerifiedHTTPSConnection object at 0x0000013040305148>, 'Connection to 10.230.7.15 timed out. (connect timeout=15)')': /simple/wandb/\n",
      "WARNING: Retrying (Retry(total=1, connect=None, read=None, redirect=None, status=None)) after connection broken by 'ConnectTimeoutError(<pip._vendor.urllib3.connection.VerifiedHTTPSConnection object at 0x00000130405817C8>, 'Connection to 10.230.7.15 timed out. (connect timeout=15)')': /simple/wandb/\n",
      "WARNING: Retrying (Retry(total=0, connect=None, read=None, redirect=None, status=None)) after connection broken by 'ConnectTimeoutError(<pip._vendor.urllib3.connection.VerifiedHTTPSConnection object at 0x000001304057CD48>, 'Connection to 10.230.7.15 timed out. (connect timeout=15)')': /simple/wandb/\n",
      "WARNING: Keyring is skipped due to an exception: (1312, 'CredRead', 'A specified logon session does not exist. It may already have been terminated')\n",
      "WARNING: Keyring is skipped due to an exception: (1312, 'CredRead', 'A specified logon session does not exist. It may already have been terminated')\n"
     ]
    }
   ],
   "source": [
    "import custom_model\n",
    "import server\n",
    "model = custom_model.Net().to(device)\n",
    "print(n_leader)\n",
    "\n",
    "server_list: List[server.Server] = []\n",
    "\n",
    "servers = []\n",
    "\n",
    "\n",
    "#print(len(server_list))\n",
    "leaderStep = int(n_client/n_leader)\n",
    "\n",
    "client_list = []\n",
    "    \n",
    "for i in range(0,n_leader):\n",
    "    server_list = server.Server(\n",
    "        model=model,\n",
    "        loss=criteria,\n",
    "        optimizer=optimizer,\n",
    "        n_client=int(leaderStep),\n",
    "        #n_leader=n_leader,\n",
    "        chosen_prob=chosen_prob,\n",
    "        optimizer_conf=optimizer_conf,\n",
    "        local_batch_size=local_batch_size,\n",
    "        local_epochs=local_epochs\n",
    "    )\n",
    "    servers.append(server_list)\n",
    "    \n",
    "#add clustering part here and define the leaders (using for loop)\n",
    "#TODO - generate coordinate for mobility\n"
   ]
  },
  {
   "cell_type": "code",
   "execution_count": 35,
   "metadata": {},
   "outputs": [
    {
     "name": "stderr",
     "output_type": "stream",
     "text": [
      "\r",
      "0it [00:00, ?it/s]"
     ]
    },
    {
     "name": "stdout",
     "output_type": "stream",
     "text": [
      "[array([[19.26743972, 25.44610794],\n",
      "       [90.69726375, 24.51785485],\n",
      "       [38.88126099, 11.12318674],\n",
      "       [79.6703566 , 62.46714644],\n",
      "       [84.86975409, 41.72673228],\n",
      "       [76.09718472, 65.69433294],\n",
      "       [19.64789023, 92.65442519],\n",
      "       [37.17770565, 14.20567892],\n",
      "       [76.19205742, 69.16390623],\n",
      "       [38.32178211, 21.67184748]]), array([[95.05819032, 62.00219612],\n",
      "       [52.27931961, 57.79525622],\n",
      "       [27.09189255, 57.92444027],\n",
      "       [33.41449071, 25.42171488],\n",
      "       [84.50727381, 25.03071363],\n",
      "       [45.86476139, 66.96604269],\n",
      "       [20.33964845, 95.06680491],\n",
      "       [61.87514805,  2.48223398],\n",
      "       [60.41843274,  1.64728009],\n",
      "       [64.0899629 , 85.87838921]])]\n",
      "X coord 19.26743972463429\n",
      "Y coord 25.44610794302486\n",
      "X coord 95.05819032330184\n",
      "Y coord 62.002196122938315\n"
     ]
    },
    {
     "name": "stderr",
     "output_type": "stream",
     "text": [
      "10it [00:05,  1.77it/s]\n",
      "10it [00:05,  1.77it/s]\n"
     ]
    },
    {
     "data": {
      "text/plain": [
       "\"for i in range(len(servers)):\\n    for j in range(len(servers[i].client_pool)):\\n        print(str('For client ')+str(j)+str(' in server ')+str(i)+str(' the lenght of data is ')+str(len(servers[i].client_pool[j].data)))\\n    print(str('The number of client in server ')+str(i)+str(' is: ')+str(len(servers[i].client_pool)))\""
      ]
     },
     "execution_count": 35,
     "metadata": {},
     "output_type": "execute_result"
    }
   ],
   "source": [
    "\n",
    "# # This is for iid data\n",
    "# for batch_idx, (batch_feature, batch_label) in enumerate(trainloader):\n",
    "#     server.client_pool[batch_idx].setData(list(zip(batch_feature, batch_label)))\n",
    "\n",
    "# This is for non-iid data\n",
    "from collections import Counter\n",
    "import random\n",
    "import numpy as np\n",
    "import logging\n",
    "import clustering\n",
    "import clients\n",
    "from scipy.spatial.distance import cdist\n",
    "from mobility import gauss_markov, reference_point_group, \\\n",
    "    tvc, truncated_levy_walk, random_direction, random_waypoint, random_walk\n",
    "from tqdm import tqdm\n",
    "\n",
    "classes_pair = [(0, 1), (2, 3), (4, 5), (6, 7), (8, 9)]\n",
    "\n",
    "data_label = np.array(trainset.targets)\n",
    "\n",
    "nr_nodes = int(n_client)\n",
    "\n",
    "logger = logging.getLogger(\"vanet\")\n",
    "\n",
    "step = 0\n",
    "np.random.seed(0xffff)\n",
    "\n",
    "# simulation area (units)\n",
    "MAX_X, MAX_Y = 100, 100\n",
    "\n",
    "# max and min velocity\n",
    "MIN_V, MAX_V = 0.1, 1.\n",
    "\n",
    "# max waiting time\n",
    "MAX_WT = 100.\n",
    "\n",
    "# number of steps to ignore before start plotting\n",
    "STEPS_TO_IGNORE = 10000\n",
    "\n",
    "# set this to true if you want to calculate node contacts\n",
    "CALCULATE_CONTACTS = False\n",
    "\n",
    "# if calculating contacts, this is the range to be used\n",
    "# (if a distance(a,b) < RANGE, then there is a contact betwen a and b)\n",
    "RANGE = 1.\n",
    "\n",
    "rw = random_walk(nr_nodes, dimensions=(MAX_X, MAX_Y))\n",
    "    \n",
    "cluster = clustering.Cluster(nr_nodes,step,MAX_X, MAX_Y,MIN_V, MAX_V,MAX_WT,STEPS_TO_IGNORE,CALCULATE_CONTACTS,\n",
    "                            RANGE,rw)\n",
    "\n",
    "coordinate = cluster.coord(rw)\n",
    "#print(coordinate)\n",
    "coordinates = []\n",
    "\n",
    "def get_subCoordinates(original_list, number_of_sub_list_wanted):\n",
    "    sublists = list()\n",
    "    for sub_list_count in range(number_of_sub_list_wanted): \n",
    "        sublists.append(original_list[sub_list_count::number_of_sub_list_wanted])\n",
    "    return sublists\n",
    "\n",
    "coordinates = get_subCoordinates(coordinate, n_leader)\n",
    "\n",
    "print(coordinates)\n",
    "#print(len(servers[0].client_pool))\n",
    "#print(coordinate[5][1])\n",
    "#print(coordinate[2])\n",
    "#print(cluster.coord(rw))\n",
    "\n",
    "\n",
    "#initialize coordinates\n",
    "for i in range(len(servers)):\n",
    "    for j in range(len(servers[i].client_pool)):\n",
    "        servers[i].client_pool[j].setXCoordinate(coordinates[i][j][0])\n",
    "        servers[i].client_pool[j].setYCoordinate(coordinates[i][j][1])\n",
    "\n",
    "print(str('X coord ')+str(servers[0].client_pool[0].actual_Xcoord))\n",
    "print(str('Y coord ')+str(servers[0].client_pool[0].actual_Ycoord))\n",
    "\n",
    "print(str('X coord ')+str(servers[1].client_pool[0].actual_Xcoord))\n",
    "print(str('Y coord ')+str(servers[1].client_pool[0].actual_Ycoord))\n",
    "                   \n",
    "chosen_counter = Counter()\n",
    "for i in range(len(servers)):\n",
    "    for _, client in tqdm(enumerate(servers[i].client_pool)):\n",
    "        # sample until we have a pair of class with insufficient client owning\n",
    "        class_pair = random.choice(classes_pair)\n",
    "        while chosen_counter[class_pair] == 100:\n",
    "            class_pair = random.choice(classes_pair)\n",
    "\n",
    "        chosen_counter[class_pair] += 1\n",
    "\n",
    "        first_class, second_class = class_pair\n",
    "        first_class_sample_idx = list(np.where(data_label == first_class)[0])\n",
    "        second_class_sample_idx = list(np.where(data_label == second_class)[0])\n",
    "\n",
    "        client_first_class_sample_idx = random.sample(first_class_sample_idx, k=500)\n",
    "        client_second_class_sample_idx = random.sample(second_class_sample_idx, k=500)\n",
    "\n",
    "        client_data = []\n",
    "\n",
    "        for i in range(500):\n",
    "            client_data.append(trainset[client_first_class_sample_idx[i]])\n",
    "            client_data.append(trainset[client_second_class_sample_idx[i]])\n",
    "\n",
    "        client.setData(client_data)\n",
    "        #print(client_data)\n",
    "        #print(client.setData(client_data))print(model.conv1.weight.grad)\n",
    "\n",
    "'''for i in range(len(servers)):\n",
    "    for j in range(len(servers[i].client_pool)):\n",
    "        print(str('For client ')+str(j)+str(' in server ')+str(i)+str(' the lenght of data is ')+str(len(servers[i].client_pool[j].data)))\n",
    "    print(str('The number of client in server ')+str(i)+str(' is: ')+str(len(servers[i].client_pool)))'''\n",
    "\n",
    "#print((servers[0].client_pool[0].model))\n",
    "#print((servers[0].client_pool[1].model))\n",
    "#print((servers[1].client_pool[2].model))\n"
   ]
  },
  {
   "cell_type": "code",
   "execution_count": 11,
   "metadata": {
    "scrolled": false
   },
   "outputs": [
    {
     "data": {
      "text/html": [
       "Finishing last run (ID:1zmkstsd) before initializing another..."
      ],
      "text/plain": [
       "<IPython.core.display.HTML object>"
      ]
     },
     "metadata": {},
     "output_type": "display_data"
    },
    {
     "name": "stdout",
     "output_type": "stream",
     "text": [
      "\n"
     ]
    },
    {
     "data": {
      "text/html": [
       "Waiting for W&B process to finish... <strong style=\"color:green\">(success).</strong>"
      ],
      "text/plain": [
       "<IPython.core.display.HTML object>"
      ]
     },
     "metadata": {},
     "output_type": "display_data"
    },
    {
     "data": {
      "application/vnd.jupyter.widget-view+json": {
       "model_id": "",
       "version_major": 2,
       "version_minor": 0
      },
      "text/plain": [
       "VBox(children=(Label(value='0.001 MB of 0.001 MB uploaded (0.000 MB deduped)\\r'), FloatProgress(value=1.0, max…"
      ]
     },
     "metadata": {},
     "output_type": "display_data"
    },
    {
     "data": {
      "text/html": [
       "Synced <strong style=\"color:#cdcd00\">CNN_CIFAR_10_noniid</strong>: <a href=\"https://wandb.ai/minhrongcon2000/fl/runs/1zmkstsd\" target=\"_blank\">https://wandb.ai/minhrongcon2000/fl/runs/1zmkstsd</a><br/>Synced 6 W&B file(s), 0 media file(s), 0 artifact file(s) and 0 other file(s)"
      ],
      "text/plain": [
       "<IPython.core.display.HTML object>"
      ]
     },
     "metadata": {},
     "output_type": "display_data"
    },
    {
     "data": {
      "text/html": [
       "Find logs at: <code>.\\wandb\\run-20220322_171839-1zmkstsd\\logs</code>"
      ],
      "text/plain": [
       "<IPython.core.display.HTML object>"
      ]
     },
     "metadata": {},
     "output_type": "display_data"
    },
    {
     "data": {
      "text/html": [
       "Successfully finished last run (ID:1zmkstsd). Initializing new run:<br/>"
      ],
      "text/plain": [
       "<IPython.core.display.HTML object>"
      ]
     },
     "metadata": {},
     "output_type": "display_data"
    },
    {
     "data": {
      "text/html": [
       "Tracking run with wandb version 0.12.11"
      ],
      "text/plain": [
       "<IPython.core.display.HTML object>"
      ]
     },
     "metadata": {},
     "output_type": "display_data"
    },
    {
     "data": {
      "text/html": [
       "Run data is saved locally in <code>C:\\Users\\lloyd\\Desktop\\VANET\\FL\\wandb\\run-20220322_171958-9nzzj1a8</code>"
      ],
      "text/plain": [
       "<IPython.core.display.HTML object>"
      ]
     },
     "metadata": {},
     "output_type": "display_data"
    },
    {
     "data": {
      "text/html": [
       "Syncing run <strong><a href=\"https://wandb.ai/minhrongcon2000/fl/runs/9nzzj1a8\" target=\"_blank\">CNN_CIFAR_10_noniid</a></strong> to <a href=\"https://wandb.ai/minhrongcon2000/fl\" target=\"_blank\">Weights & Biases</a> (<a href=\"https://wandb.me/run\" target=\"_blank\">docs</a>)<br/>"
      ],
      "text/plain": [
       "<IPython.core.display.HTML object>"
      ]
     },
     "metadata": {},
     "output_type": "display_data"
    },
    {
     "name": "stdout",
     "output_type": "stream",
     "text": [
      "Client 2: Acc 0.8662109375, Loss: 0.26418264117091894\n",
      "Client 0: Acc 0.7412109375, Loss: 0.501322410069406\n",
      "Client 6: Acc 0.8671875, Loss: 0.2949364469386637\n",
      "Client 5: Acc 0.853515625, Loss: 0.29693995718844235\n",
      "Client 4: Acc 0.873046875, Loss: 0.27076182467862964\n",
      "Client 9: Acc 0.728515625, Loss: 0.5147119862958789\n",
      "Client 1: Acc 0.845703125, Loss: 0.33007818879559636\n",
      "Client 7: Acc 0.8671875, Loss: 0.288080588914454\n",
      "Overall acc: 0.830322265625, overall_loss: 0.34512675550649874\n",
      "Client 9: Acc 0.7607421875, Loss: 0.4709209566935897\n",
      "Client 3: Acc 0.7431640625, Loss: 0.4884306313470006\n",
      "Client 0: Acc 0.873046875, Loss: 0.26259832084178925\n",
      "Client 1: Acc 0.7822265625, Loss: 0.40841060830280185\n",
      "Client 6: Acc 0.7646484375, Loss: 0.46554539166390896\n",
      "Client 5: Acc 0.7685546875, Loss: 0.45553265884518623\n",
      "Client 7: Acc 0.8662109375, Loss: 0.2550408111419529\n",
      "Client 2: Acc 0.7333984375, Loss: 0.5118169486522675\n",
      "Overall acc: 0.7864990234375, overall_loss: 0.4147870409360621\n",
      "Client 4: Acc 0.8720703125, Loss: 0.2602886825334281\n",
      "Client 3: Acc 0.853515625, Loss: 0.29583459720015526\n",
      "Client 1: Acc 0.853515625, Loss: 0.3137624519877136\n",
      "Client 7: Acc 0.8818359375, Loss: 0.249579623574391\n",
      "Client 0: Acc 0.7392578125, Loss: 0.48491827119141817\n",
      "Client 2: Acc 0.8857421875, Loss: 0.22845723177306354\n",
      "Client 9: Acc 0.755859375, Loss: 0.4768193019554019\n",
      "Client 6: Acc 0.86328125, Loss: 0.28637283481657505\n",
      "Overall acc: 0.838134765625, overall_loss: 0.3245041243790183\n",
      "Client 2: Acc 0.759765625, Loss: 0.4819872584193945\n",
      "Client 3: Acc 0.771484375, Loss: 0.46467622090131044\n",
      "Client 6: Acc 0.8037109375, Loss: 0.4156090272590518\n",
      "Client 5: Acc 0.7900390625, Loss: 0.4357743998989463\n",
      "Client 4: Acc 0.8076171875, Loss: 0.3990505104884505\n",
      "Client 1: Acc 0.78125, Loss: 0.41006995271891356\n",
      "Client 0: Acc 0.87109375, Loss: 0.2500903771724552\n",
      "Client 7: Acc 0.8818359375, Loss: 0.23629364790394902\n",
      "Overall acc: 0.808349609375, overall_loss: 0.3866939243453089\n",
      "Client 0: Acc 0.7646484375, Loss: 0.4544601058587432\n",
      "Client 2: Acc 0.892578125, Loss: 0.20683914655819535\n",
      "Client 3: Acc 0.841796875, Loss: 0.30322263995185494\n",
      "Client 6: Acc 0.884765625, Loss: 0.24522282159887254\n",
      "Client 4: Acc 0.8798828125, Loss: 0.25523306149989367\n",
      "Client 5: Acc 0.87109375, Loss: 0.26908991066738963\n",
      "Client 1: Acc 0.8544921875, Loss: 0.3107562600634992\n",
      "Client 7: Acc 0.875, Loss: 0.24137371708638966\n",
      "Overall acc: 0.8580322265625, overall_loss: 0.2857747079106048\n",
      "Client 4: Acc 0.814453125, Loss: 0.36648608557879925\n",
      "Client 6: Acc 0.794921875, Loss: 0.4222795097157359\n",
      "Client 8: Acc 0.7421875, Loss: 0.5192285226657987\n",
      "Client 0: Acc 0.8916015625, Loss: 0.22194070392288268\n",
      "Client 1: Acc 0.8056640625, Loss: 0.3786899740807712\n",
      "Client 5: Acc 0.7890625, Loss: 0.41797332279384136\n",
      "Client 3: Acc 0.767578125, Loss: 0.4629413830116391\n",
      "Client 7: Acc 0.8818359375, Loss: 0.2347747457679361\n",
      "Overall acc: 0.8109130859375, overall_loss: 0.37803928094217554\n",
      "Client 9: Acc 0.7734375, Loss: 0.46969650220125914\n",
      "Client 1: Acc 0.8671875, Loss: 0.28535095881670713\n",
      "Client 4: Acc 0.8837890625, Loss: 0.24010536447167397\n",
      "Client 8: Acc 0.8759765625, Loss: 0.24962488026358187\n",
      "Client 0: Acc 0.771484375, Loss: 0.45755412336438894\n",
      "Client 3: Acc 0.865234375, Loss: 0.2718643103726208\n",
      "Client 2: Acc 0.8974609375, Loss: 0.19456787477247417\n",
      "Client 6: Acc 0.88671875, Loss: 0.2279147442895919\n",
      "Overall acc: 0.8526611328125, overall_loss: 0.29958484481903724\n",
      "Client 2: Acc 0.7578125, Loss: 0.4849827792495489\n",
      "Client 3: Acc 0.798828125, Loss: 0.4509950056672096\n",
      "Client 8: Acc 0.7763671875, Loss: 0.46954385563731194\n",
      "Client 5: Acc 0.783203125, Loss: 0.41566838370636106\n",
      "Client 6: Acc 0.8134765625, Loss: 0.37987958919256926\n",
      "Client 0: Acc 0.8916015625, Loss: 0.22736730962060392\n",
      "Client 7: Acc 0.8974609375, Loss: 0.21957610012032092\n",
      "Client 1: Acc 0.806640625, Loss: 0.3763214014470577\n",
      "Overall acc: 0.815673828125, overall_loss: 0.3780418030801229\n",
      "Client 7: Acc 0.8876953125, Loss: 0.23269162012729794\n",
      "Client 1: Acc 0.87109375, Loss: 0.27043192368000746\n",
      "Client 4: Acc 0.892578125, Loss: 0.22360105207189918\n",
      "Client 0: Acc 0.7763671875, Loss: 0.4418940683826804\n",
      "Client 6: Acc 0.884765625, Loss: 0.2514051639009267\n",
      "Client 3: Acc 0.875, Loss: 0.235471170861274\n",
      "Client 5: Acc 0.8984375, Loss: 0.22346763173118234\n",
      "Client 9: Acc 0.7509765625, Loss: 0.46187163051217794\n",
      "Overall acc: 0.8546142578125, overall_loss: 0.29260428265843075\n",
      "Client 8: Acc 0.7529296875, Loss: 0.4762807060033083\n",
      "Client 9: Acc 0.77734375, Loss: 0.41402564011514187\n",
      "Client 3: Acc 0.794921875, Loss: 0.4276264226064086\n",
      "Client 5: Acc 0.8232421875, Loss: 0.3643539301119745\n",
      "Client 1: Acc 0.8173828125, Loss: 0.3612612779252231\n",
      "Client 4: Acc 0.8115234375, Loss: 0.3906277813948691\n",
      "Client 6: Acc 0.806640625, Loss: 0.3885927367955446\n",
      "Client 7: Acc 0.896484375, Loss: 0.22009239555336535\n",
      "Overall acc: 0.81005859375, overall_loss: 0.3803576113132294\n",
      "Client 7: Acc 0.904296875, Loss: 0.19615209056064487\n",
      "Client 5: Acc 0.8837890625, Loss: 0.24174497206695378\n",
      "Client 2: Acc 0.8994140625, Loss: 0.18724483507685363\n",
      "Client 0: Acc 0.775390625, Loss: 0.4333660020492971\n",
      "Client 8: Acc 0.8837890625, Loss: 0.22734029055573046\n",
      "Client 4: Acc 0.875, Loss: 0.25672388914972544\n",
      "Client 3: Acc 0.888671875, Loss: 0.22625159588642418\n",
      "Client 9: Acc 0.78125, Loss: 0.43074135994538665\n",
      "Overall acc: 0.8614501953125, overall_loss: 0.274945629411377\n",
      "Client 2: Acc 0.7626953125, Loss: 0.4725748198106885\n",
      "Client 3: Acc 0.787109375, Loss: 0.4244889367837459\n",
      "Client 6: Acc 0.8427734375, Loss: 0.340778692625463\n",
      "Client 1: Acc 0.8232421875, Loss: 0.34485512785613537\n",
      "Client 5: Acc 0.81640625, Loss: 0.3399929660372436\n",
      "Client 8: Acc 0.7724609375, Loss: 0.4532678327523172\n",
      "Client 0: Acc 0.896484375, Loss: 0.2041475938167423\n",
      "Client 7: Acc 0.9033203125, Loss: 0.20815172186121345\n",
      "Overall acc: 0.8255615234375, overall_loss: 0.34853221144294366\n",
      "Client 0: Acc 0.7958984375, Loss: 0.4134412701241672\n",
      "Client 5: Acc 0.9091796875, Loss: 0.19425176049117\n",
      "Client 6: Acc 0.8828125, Loss: 0.20703664037864655\n",
      "Client 8: Acc 0.892578125, Loss: 0.19203523476608098\n",
      "Client 1: Acc 0.8779296875, Loss: 0.24045442626811564\n",
      "Client 2: Acc 0.9140625, Loss: 0.16657514625694603\n",
      "Client 9: Acc 0.779296875, Loss: 0.42768816370517015\n",
      "Client 3: Acc 0.88671875, Loss: 0.21308804582804441\n",
      "Overall acc: 0.8673095703125, overall_loss: 0.2568213359772926\n",
      "Client 5: Acc 0.806640625, Loss: 0.3838019664399326\n",
      "Client 3: Acc 0.802734375, Loss: 0.4287254987284541\n",
      "Client 6: Acc 0.8291015625, Loss: 0.34421701543033123\n",
      "Client 8: Acc 0.8017578125, Loss: 0.4165117214433849\n",
      "Client 9: Acc 0.779296875, Loss: 0.42962012998759747\n",
      "Client 2: Acc 0.759765625, Loss: 0.4662683932110667\n",
      "Client 0: Acc 0.904296875, Loss: 0.19375051476527005\n",
      "Client 1: Acc 0.8125, Loss: 0.35298189520835876\n",
      "Overall acc: 0.81201171875, overall_loss: 0.3769846419017995\n",
      "Client 9: Acc 0.7783203125, Loss: 0.42791049275547266\n",
      "Client 4: Acc 0.8935546875, Loss: 0.20092007308267057\n",
      "Client 3: Acc 0.8974609375, Loss: 0.18980790674686432\n",
      "Client 1: Acc 0.88671875, Loss: 0.21749060624279082\n",
      "Client 7: Acc 0.8828125, Loss: 0.23326904443092644\n",
      "Client 6: Acc 0.880859375, Loss: 0.22862545354291797\n",
      "Client 8: Acc 0.908203125, Loss: 0.17091602028813213\n",
      "Client 2: Acc 0.9169921875, Loss: 0.15381034114398062\n",
      "Overall acc: 0.880615234375, overall_loss: 0.22784374227921944\n",
      "Client 9: Acc 0.8212890625, Loss: 0.374079005792737\n",
      "Client 3: Acc 0.8037109375, Loss: 0.3943043383769691\n",
      "Client 7: Acc 0.91015625, Loss: 0.17497366049792618\n",
      "Client 2: Acc 0.787109375, Loss: 0.4188391100615263\n",
      "Client 5: Acc 0.8349609375, Loss: 0.3242343533784151\n",
      "Client 6: Acc 0.841796875, Loss: 0.33502289513126016\n",
      "Client 1: Acc 0.830078125, Loss: 0.33828180003911257\n",
      "Client 8: Acc 0.8115234375, Loss: 0.4148429171182215\n",
      "Overall acc: 0.830078125, overall_loss: 0.346822260049521\n",
      "Client 7: Acc 0.908203125, Loss: 0.17609356972388923\n",
      "Client 4: Acc 0.9033203125, Loss: 0.18335868883877993\n",
      "Client 0: Acc 0.78125, Loss: 0.4214106355793774\n",
      "Client 9: Acc 0.802734375, Loss: 0.4067964619025588\n",
      "Client 6: Acc 0.912109375, Loss: 0.16738991136662662\n",
      "Client 1: Acc 0.904296875, Loss: 0.20473846839740872\n",
      "Client 5: Acc 0.91796875, Loss: 0.16719264024868608\n",
      "Client 2: Acc 0.921875, Loss: 0.13665350526571274\n",
      "Overall acc: 0.8814697265625, overall_loss: 0.23295423516537994\n"
     ]
    },
    {
     "name": "stdout",
     "output_type": "stream",
     "text": [
      "Client 5: Acc 0.8720703125, Loss: 0.25847216276451945\n",
      "Client 1: Acc 0.830078125, Loss: 0.3257129811681807\n",
      "Client 2: Acc 0.783203125, Loss: 0.3961653672158718\n",
      "Client 0: Acc 0.9052734375, Loss: 0.18040833808481693\n",
      "Client 7: Acc 0.9140625, Loss: 0.1651950596133247\n",
      "Client 4: Acc 0.830078125, Loss: 0.34631034499034286\n",
      "Client 8: Acc 0.7998046875, Loss: 0.40169224981218576\n",
      "Client 6: Acc 0.8681640625, Loss: 0.2824100269936025\n",
      "Overall acc: 0.850341796875, overall_loss: 0.2945458163303556\n",
      "Client 6: Acc 0.921875, Loss: 0.15022200148086995\n",
      "Client 8: Acc 0.908203125, Loss: 0.15741279092617333\n",
      "Client 1: Acc 0.8505859375, Loss: 0.30467555625364184\n",
      "Client 5: Acc 0.91796875, Loss: 0.15217032458167523\n",
      "Client 2: Acc 0.9228515625, Loss: 0.12727284617722034\n",
      "Client 9: Acc 0.8076171875, Loss: 0.3976446585729718\n",
      "Client 4: Acc 0.904296875, Loss: 0.1784662512363866\n",
      "Client 3: Acc 0.9130859375, Loss: 0.1707081978674978\n",
      "Overall acc: 0.893310546875, overall_loss: 0.20482157838705461\n",
      "Client 9: Acc 0.82421875, Loss: 0.3646333063952625\n",
      "Client 0: Acc 0.912109375, Loss: 0.17787379794754088\n",
      "Client 4: Acc 0.8291015625, Loss: 0.3379918532446027\n",
      "Client 5: Acc 0.8583984375, Loss: 0.27894963836297393\n",
      "Client 8: Acc 0.80859375, Loss: 0.3868459789082408\n",
      "Client 2: Acc 0.802734375, Loss: 0.3953278735280037\n",
      "Client 6: Acc 0.873046875, Loss: 0.25878353300504386\n",
      "Client 7: Acc 0.927734375, Loss: 0.15008298924658448\n",
      "Overall acc: 0.8544921875, overall_loss: 0.2938111213297816\n"
     ]
    }
   ],
   "source": [
    "wandb.init(project=\"fl\", name=\"CNN_CIFAR_10_noniid\")\n",
    "#print((servers[0].client_pool[0].data))\n",
    "aggregates = []\n",
    "\n",
    "'''for i in range(len(servers)):\n",
    "    aggregate = servers[i].aggregate()\n",
    "    aggregates.append(aggregate)'''\n",
    "    \n",
    "for i in range(epochs):\n",
    "    for j in range(len(servers)):\n",
    "        servers[j].aggregate()\n",
    "        servers[j].broadcast()\n",
    "        total_correct = 0\n",
    "        #with torch.no_grad():\n",
    "        for _, (test_feature, test_label) in enumerate(testloader):\n",
    "            test_feature = test_feature.to(device)\n",
    "            test_label = test_label.to(device)\n",
    "            y_pred = servers[j].model(test_feature)\n",
    "            y_pred_decode = torch.argmax(y_pred, dim=1)\n",
    "\n",
    "            total_correct += y_pred_decode.eq(test_label).sum().item()\n",
    "            #print(str('total_correct ')+str(total_correct))\n",
    "        test_acc = total_correct / 10000\n",
    "\n",
    "        print(\"Overall acc: {}, overall_loss: {}\".format(servers[j].avg_acc, servers[j].avg_loss))\n",
    "        wandb.log({\"acc\": servers[j].avg_acc, \"loss\": servers[j].avg_loss})\n",
    "#print(model.conv1.weight.grad)"
   ]
  },
  {
   "cell_type": "code",
   "execution_count": null,
   "metadata": {},
   "outputs": [],
   "source": []
  }
 ],
 "metadata": {
  "kernelspec": {
   "display_name": "Python 3",
   "language": "python",
   "name": "python3"
  },
  "language_info": {
   "codemirror_mode": {
    "name": "ipython",
    "version": 3
   },
   "file_extension": ".py",
   "mimetype": "text/x-python",
   "name": "python",
   "nbconvert_exporter": "python",
   "pygments_lexer": "ipython3",
   "version": "3.7.6"
  }
 },
 "nbformat": 4,
 "nbformat_minor": 4
}
